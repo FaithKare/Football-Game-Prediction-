{
  "nbformat": 4,
  "nbformat_minor": 0,
  "metadata": {
    "colab": {
      "name": "Faith Wangari_Data_science_core_week6_IP",
      "provenance": [],
      "collapsed_sections": [],
      "authorship_tag": "ABX9TyPjcwd+wq1gA9vMMWhghUne",
      "include_colab_link": true
    },
    "kernelspec": {
      "name": "python3",
      "display_name": "Python 3"
    },
    "language_info": {
      "name": "python"
    }
  },
  "cells": [
    {
      "cell_type": "markdown",
      "metadata": {
        "id": "view-in-github",
        "colab_type": "text"
      },
      "source": [
        "<a href=\"https://colab.research.google.com/github/FaithKare/Football-Game-Prediction-/blob/master/Faith_Wangari_Data_science_core_week6_IP.ipynb\" target=\"_parent\"><img src=\"https://colab.research.google.com/assets/colab-badge.svg\" alt=\"Open In Colab\"/></a>"
      ]
    },
    {
      "cell_type": "markdown",
      "metadata": {
        "id": "NHdqjkwF4iWK"
      },
      "source": [
        "# 1.Defining the Question "
      ]
    },
    {
      "cell_type": "markdown",
      "metadata": {
        "id": "q7nDtbDq5d-M"
      },
      "source": [
        "## a) Specyfying the analysis question "
      ]
    },
    {
      "cell_type": "markdown",
      "metadata": {
        "id": "0e2rTjk_5x-y"
      },
      "source": [
        "As a football analyst the task it to perfom a prediction result of a game between two teams 1 and 2, based on who's home and who's away and on whether or not the game is friendly including ranking of the teams. "
      ]
    },
    {
      "cell_type": "markdown",
      "metadata": {
        "id": "PcGz49Z867Q-"
      },
      "source": [
        "## b) Metric of Success "
      ]
    },
    {
      "cell_type": "markdown",
      "metadata": {
        "id": "4wB4_MCNJsib"
      },
      "source": [
        " Be able to create a model that can predict a football match result between two teams given the input: Home team, Away Team and whether the game is friendly or not. Using both the polynomial approach and the logistic approach \n",
        "\n"
      ]
    },
    {
      "cell_type": "markdown",
      "metadata": {
        "id": "2bUE9M2T7fd5"
      },
      "source": [
        "## c) Understanding the context "
      ]
    },
    {
      "cell_type": "markdown",
      "metadata": {
        "id": "qhGvIujpw5sH"
      },
      "source": [
        "The men's FIFA World Ranking is a ranking system for men's national teams in association football. The research consists of 2 datasets; a ranking dataset and a results one.\n",
        "\n",
        "Ranking has been changing over the years. The current method of calculation is the Elo method\n",
        "\n",
        "The Elo method of calculation adds/subtracts points (as opposed to averaging points) for individual matches to/from a team’s existing point total. The points which are added or subtracted are partially determined by the relative strength of the two opponents, including the logical expectation that teams higher in the ranking should fare better against teams lower in the ranking.\n",
        "\n",
        "The study is meant to predict the number of scores made by both the away team and home teams."
      ]
    },
    {
      "cell_type": "markdown",
      "metadata": {
        "id": "gsHBaKxB8VLU"
      },
      "source": [
        "## d) Experimental design taken "
      ]
    },
    {
      "cell_type": "markdown",
      "metadata": {
        "id": "3GwvUEWbxONK"
      },
      "source": [
        "Indented block Below are the steps that will be conducted in this analysis in order to fulfill the project goal satisfactorily: \n",
        "*   Data reading , cleaning and merging \n",
        "*   EDA\n",
        "> Univariate analysis , Bivariate analysis\n",
        "*   Polynomial Regression\n",
        "> Feature Engineering\n",
        ">, Multicolinearity,\n",
        "> Model Building \n",
        ", Cross Validation\n",
        ",Assesing Heteroskadisticity\n",
        "\n",
        "*   Logistic Regression\n",
        "> Feature engineering, Model building \n",
        "\n",
        "\n"
      ]
    },
    {
      "cell_type": "markdown",
      "metadata": {
        "id": "oaLEOUPG8h1c"
      },
      "source": [
        "## e) Data Relevance "
      ]
    },
    {
      "cell_type": "markdown",
      "metadata": {
        "id": "9gTtOuWbv2PY"
      },
      "source": [
        "This was evaluated against the metric of success (after implementation of solution)"
      ]
    },
    {
      "cell_type": "markdown",
      "metadata": {
        "id": "Uydmbt7oCv_x"
      },
      "source": [
        "# 2.Reading and Checking The Datasets"
      ]
    },
    {
      "cell_type": "code",
      "metadata": {
        "id": "4OGvnp5c4O5C"
      },
      "source": [
        "#Importing relevant libaries\n",
        "import numpy as np\n",
        "import pandas as pd\n",
        "import matplotlib.pyplot as plt\n",
        "import seaborn as sns \n",
        "from sklearn.preprocessing import PolynomialFeatures\n",
        "from sklearn.model_selection import train_test_split\n",
        "# Import LinearRegression method from sklearn linear_model library\n",
        "from sklearn.linear_model import LinearRegression\n",
        "from sklearn import metrics\n",
        "\n"
      ],
      "execution_count": null,
      "outputs": []
    },
    {
      "cell_type": "markdown",
      "metadata": {
        "id": "JVn99q2oSqxB"
      },
      "source": [
        "## A) The Result Dataset "
      ]
    },
    {
      "cell_type": "code",
      "metadata": {
        "id": "NnIudxZyDJSG"
      },
      "source": [
        "# loading the dataset \n",
        "results = pd.read_csv(\"results.csv\")"
      ],
      "execution_count": null,
      "outputs": []
    },
    {
      "cell_type": "code",
      "metadata": {
        "id": "QQJrOAKbDOUi",
        "colab": {
          "base_uri": "https://localhost:8080/",
          "height": 172
        },
        "outputId": "18f59c0c-e82e-480f-87eb-6a1092f33c41"
      },
      "source": [
        "#Previewing the top of our dataset\n",
        "results.head(4)"
      ],
      "execution_count": null,
      "outputs": [
        {
          "output_type": "execute_result",
          "data": {
            "text/html": [
              "<div>\n",
              "<style scoped>\n",
              "    .dataframe tbody tr th:only-of-type {\n",
              "        vertical-align: middle;\n",
              "    }\n",
              "\n",
              "    .dataframe tbody tr th {\n",
              "        vertical-align: top;\n",
              "    }\n",
              "\n",
              "    .dataframe thead th {\n",
              "        text-align: right;\n",
              "    }\n",
              "</style>\n",
              "<table border=\"1\" class=\"dataframe\">\n",
              "  <thead>\n",
              "    <tr style=\"text-align: right;\">\n",
              "      <th></th>\n",
              "      <th>date</th>\n",
              "      <th>home_team</th>\n",
              "      <th>away_team</th>\n",
              "      <th>home_score</th>\n",
              "      <th>away_score</th>\n",
              "      <th>tournament</th>\n",
              "      <th>city</th>\n",
              "      <th>country</th>\n",
              "      <th>neutral</th>\n",
              "    </tr>\n",
              "  </thead>\n",
              "  <tbody>\n",
              "    <tr>\n",
              "      <th>0</th>\n",
              "      <td>1872-11-30</td>\n",
              "      <td>Scotland</td>\n",
              "      <td>England</td>\n",
              "      <td>0</td>\n",
              "      <td>0</td>\n",
              "      <td>Friendly</td>\n",
              "      <td>Glasgow</td>\n",
              "      <td>Scotland</td>\n",
              "      <td>False</td>\n",
              "    </tr>\n",
              "    <tr>\n",
              "      <th>1</th>\n",
              "      <td>1873-03-08</td>\n",
              "      <td>England</td>\n",
              "      <td>Scotland</td>\n",
              "      <td>4</td>\n",
              "      <td>2</td>\n",
              "      <td>Friendly</td>\n",
              "      <td>London</td>\n",
              "      <td>England</td>\n",
              "      <td>False</td>\n",
              "    </tr>\n",
              "    <tr>\n",
              "      <th>2</th>\n",
              "      <td>1874-03-07</td>\n",
              "      <td>Scotland</td>\n",
              "      <td>England</td>\n",
              "      <td>2</td>\n",
              "      <td>1</td>\n",
              "      <td>Friendly</td>\n",
              "      <td>Glasgow</td>\n",
              "      <td>Scotland</td>\n",
              "      <td>False</td>\n",
              "    </tr>\n",
              "    <tr>\n",
              "      <th>3</th>\n",
              "      <td>1875-03-06</td>\n",
              "      <td>England</td>\n",
              "      <td>Scotland</td>\n",
              "      <td>2</td>\n",
              "      <td>2</td>\n",
              "      <td>Friendly</td>\n",
              "      <td>London</td>\n",
              "      <td>England</td>\n",
              "      <td>False</td>\n",
              "    </tr>\n",
              "  </tbody>\n",
              "</table>\n",
              "</div>"
            ],
            "text/plain": [
              "         date home_team away_team  ...     city   country neutral\n",
              "0  1872-11-30  Scotland   England  ...  Glasgow  Scotland   False\n",
              "1  1873-03-08   England  Scotland  ...   London   England   False\n",
              "2  1874-03-07  Scotland   England  ...  Glasgow  Scotland   False\n",
              "3  1875-03-06   England  Scotland  ...   London   England   False\n",
              "\n",
              "[4 rows x 9 columns]"
            ]
          },
          "metadata": {
            "tags": []
          },
          "execution_count": 3
        }
      ]
    },
    {
      "cell_type": "code",
      "metadata": {
        "id": "8XfPj0CUDZ3j",
        "colab": {
          "base_uri": "https://localhost:8080/",
          "height": 172
        },
        "outputId": "79af9ae2-9d4c-4f01-a9d0-07900384c52c"
      },
      "source": [
        "#Previewing the bottom of our dataset\n",
        "results.tail(4)"
      ],
      "execution_count": null,
      "outputs": [
        {
          "output_type": "execute_result",
          "data": {
            "text/html": [
              "<div>\n",
              "<style scoped>\n",
              "    .dataframe tbody tr th:only-of-type {\n",
              "        vertical-align: middle;\n",
              "    }\n",
              "\n",
              "    .dataframe tbody tr th {\n",
              "        vertical-align: top;\n",
              "    }\n",
              "\n",
              "    .dataframe thead th {\n",
              "        text-align: right;\n",
              "    }\n",
              "</style>\n",
              "<table border=\"1\" class=\"dataframe\">\n",
              "  <thead>\n",
              "    <tr style=\"text-align: right;\">\n",
              "      <th></th>\n",
              "      <th>date</th>\n",
              "      <th>home_team</th>\n",
              "      <th>away_team</th>\n",
              "      <th>home_score</th>\n",
              "      <th>away_score</th>\n",
              "      <th>tournament</th>\n",
              "      <th>city</th>\n",
              "      <th>country</th>\n",
              "      <th>neutral</th>\n",
              "    </tr>\n",
              "  </thead>\n",
              "  <tbody>\n",
              "    <tr>\n",
              "      <th>40835</th>\n",
              "      <td>2019-07-18</td>\n",
              "      <td>Fiji</td>\n",
              "      <td>Solomon Islands</td>\n",
              "      <td>4</td>\n",
              "      <td>4</td>\n",
              "      <td>Pacific Games</td>\n",
              "      <td>Apia</td>\n",
              "      <td>Samoa</td>\n",
              "      <td>True</td>\n",
              "    </tr>\n",
              "    <tr>\n",
              "      <th>40836</th>\n",
              "      <td>2019-07-19</td>\n",
              "      <td>Senegal</td>\n",
              "      <td>Algeria</td>\n",
              "      <td>0</td>\n",
              "      <td>1</td>\n",
              "      <td>African Cup of Nations</td>\n",
              "      <td>Cairo</td>\n",
              "      <td>Egypt</td>\n",
              "      <td>True</td>\n",
              "    </tr>\n",
              "    <tr>\n",
              "      <th>40837</th>\n",
              "      <td>2019-07-19</td>\n",
              "      <td>Tajikistan</td>\n",
              "      <td>North Korea</td>\n",
              "      <td>0</td>\n",
              "      <td>1</td>\n",
              "      <td>Intercontinental Cup</td>\n",
              "      <td>Ahmedabad</td>\n",
              "      <td>India</td>\n",
              "      <td>True</td>\n",
              "    </tr>\n",
              "    <tr>\n",
              "      <th>40838</th>\n",
              "      <td>2019-07-20</td>\n",
              "      <td>Papua New Guinea</td>\n",
              "      <td>Fiji</td>\n",
              "      <td>1</td>\n",
              "      <td>1</td>\n",
              "      <td>Pacific Games</td>\n",
              "      <td>Apia</td>\n",
              "      <td>Samoa</td>\n",
              "      <td>True</td>\n",
              "    </tr>\n",
              "  </tbody>\n",
              "</table>\n",
              "</div>"
            ],
            "text/plain": [
              "             date         home_team  ... country  neutral\n",
              "40835  2019-07-18              Fiji  ...   Samoa     True\n",
              "40836  2019-07-19           Senegal  ...   Egypt     True\n",
              "40837  2019-07-19        Tajikistan  ...   India     True\n",
              "40838  2019-07-20  Papua New Guinea  ...   Samoa     True\n",
              "\n",
              "[4 rows x 9 columns]"
            ]
          },
          "metadata": {
            "tags": []
          },
          "execution_count": 4
        }
      ]
    },
    {
      "cell_type": "code",
      "metadata": {
        "id": "WYBqzqqwDfPP",
        "colab": {
          "base_uri": "https://localhost:8080/"
        },
        "outputId": "885f4ce7-89a3-42fc-a81b-aab235ea750c"
      },
      "source": [
        "#Determining number of records in the dataset \n",
        "results.shape"
      ],
      "execution_count": null,
      "outputs": [
        {
          "output_type": "execute_result",
          "data": {
            "text/plain": [
              "(40839, 9)"
            ]
          },
          "metadata": {
            "tags": []
          },
          "execution_count": 5
        }
      ]
    },
    {
      "cell_type": "code",
      "metadata": {
        "id": "OhMARL59DqW4",
        "colab": {
          "base_uri": "https://localhost:8080/"
        },
        "outputId": "68ab6b2b-46f4-4bb3-8d54-a6e364fc5158"
      },
      "source": [
        "#Checking if each column is of the appropriate data type\n",
        "results.info()"
      ],
      "execution_count": null,
      "outputs": [
        {
          "output_type": "stream",
          "text": [
            "<class 'pandas.core.frame.DataFrame'>\n",
            "RangeIndex: 40839 entries, 0 to 40838\n",
            "Data columns (total 9 columns):\n",
            " #   Column      Non-Null Count  Dtype \n",
            "---  ------      --------------  ----- \n",
            " 0   date        40839 non-null  object\n",
            " 1   home_team   40839 non-null  object\n",
            " 2   away_team   40839 non-null  object\n",
            " 3   home_score  40839 non-null  int64 \n",
            " 4   away_score  40839 non-null  int64 \n",
            " 5   tournament  40839 non-null  object\n",
            " 6   city        40839 non-null  object\n",
            " 7   country     40839 non-null  object\n",
            " 8   neutral     40839 non-null  bool  \n",
            "dtypes: bool(1), int64(2), object(6)\n",
            "memory usage: 2.5+ MB\n"
          ],
          "name": "stdout"
        }
      ]
    },
    {
      "cell_type": "markdown",
      "metadata": {
        "id": "QGCEEDTSElCL"
      },
      "source": [
        "## Cleaning the Results Dataset\n",
        "\n"
      ]
    },
    {
      "cell_type": "code",
      "metadata": {
        "id": "PiJ1D_GlEjj8",
        "colab": {
          "base_uri": "https://localhost:8080/"
        },
        "outputId": "e6e4464c-7062-45fb-de14-de0435519aa4"
      },
      "source": [
        "# changing the column date from object to datetime format \n",
        "results[\"date\"] = results[\"date\"].apply(pd.to_datetime) \n",
        "\n",
        "# confirming the conversion \n",
        "print(results.dtypes) \n"
      ],
      "execution_count": null,
      "outputs": [
        {
          "output_type": "stream",
          "text": [
            "date          datetime64[ns]\n",
            "home_team             object\n",
            "away_team             object\n",
            "home_score             int64\n",
            "away_score             int64\n",
            "tournament            object\n",
            "city                  object\n",
            "country               object\n",
            "neutral                 bool\n",
            "dtype: object\n"
          ],
          "name": "stdout"
        }
      ]
    },
    {
      "cell_type": "code",
      "metadata": {
        "colab": {
          "base_uri": "https://localhost:8080/"
        },
        "id": "qstZzo0vYVh9",
        "outputId": "42e21d3a-4d00-4ec3-d247-87f743437a8f"
      },
      "source": [
        "#checking for null values \n",
        "results.isnull().sum()\n",
        "\n",
        "#there are no missing values "
      ],
      "execution_count": null,
      "outputs": [
        {
          "output_type": "execute_result",
          "data": {
            "text/plain": [
              "date          0\n",
              "home_team     0\n",
              "away_team     0\n",
              "home_score    0\n",
              "away_score    0\n",
              "tournament    0\n",
              "city          0\n",
              "country       0\n",
              "neutral       0\n",
              "dtype: int64"
            ]
          },
          "metadata": {
            "tags": []
          },
          "execution_count": 8
        }
      ]
    },
    {
      "cell_type": "code",
      "metadata": {
        "colab": {
          "base_uri": "https://localhost:8080/"
        },
        "id": "70QYvADgYgAL",
        "outputId": "aa93cb78-c32e-44ed-ab0d-bd578b4a704e"
      },
      "source": [
        "#dropping duplicates in the dataset\n",
        "results = results.drop_duplicates()\n",
        "results.shape \n",
        "#there are no duplicated values in the dataset. "
      ],
      "execution_count": null,
      "outputs": [
        {
          "output_type": "execute_result",
          "data": {
            "text/plain": [
              "(40839, 9)"
            ]
          },
          "metadata": {
            "tags": []
          },
          "execution_count": 9
        }
      ]
    },
    {
      "cell_type": "code",
      "metadata": {
        "colab": {
          "base_uri": "https://localhost:8080/",
          "height": 172
        },
        "id": "6y9oqiJRaCHO",
        "outputId": "7ef30abe-ff7a-4cde-a29e-ba7a145511a9"
      },
      "source": [
        "#dropping columns not needed in the analysis \n",
        "results_df = results.drop(['city', 'country', 'neutral'], 1)\n",
        "results_df.head(4)"
      ],
      "execution_count": null,
      "outputs": [
        {
          "output_type": "execute_result",
          "data": {
            "text/html": [
              "<div>\n",
              "<style scoped>\n",
              "    .dataframe tbody tr th:only-of-type {\n",
              "        vertical-align: middle;\n",
              "    }\n",
              "\n",
              "    .dataframe tbody tr th {\n",
              "        vertical-align: top;\n",
              "    }\n",
              "\n",
              "    .dataframe thead th {\n",
              "        text-align: right;\n",
              "    }\n",
              "</style>\n",
              "<table border=\"1\" class=\"dataframe\">\n",
              "  <thead>\n",
              "    <tr style=\"text-align: right;\">\n",
              "      <th></th>\n",
              "      <th>date</th>\n",
              "      <th>home_team</th>\n",
              "      <th>away_team</th>\n",
              "      <th>home_score</th>\n",
              "      <th>away_score</th>\n",
              "      <th>tournament</th>\n",
              "    </tr>\n",
              "  </thead>\n",
              "  <tbody>\n",
              "    <tr>\n",
              "      <th>0</th>\n",
              "      <td>1872-11-30</td>\n",
              "      <td>Scotland</td>\n",
              "      <td>England</td>\n",
              "      <td>0</td>\n",
              "      <td>0</td>\n",
              "      <td>Friendly</td>\n",
              "    </tr>\n",
              "    <tr>\n",
              "      <th>1</th>\n",
              "      <td>1873-03-08</td>\n",
              "      <td>England</td>\n",
              "      <td>Scotland</td>\n",
              "      <td>4</td>\n",
              "      <td>2</td>\n",
              "      <td>Friendly</td>\n",
              "    </tr>\n",
              "    <tr>\n",
              "      <th>2</th>\n",
              "      <td>1874-03-07</td>\n",
              "      <td>Scotland</td>\n",
              "      <td>England</td>\n",
              "      <td>2</td>\n",
              "      <td>1</td>\n",
              "      <td>Friendly</td>\n",
              "    </tr>\n",
              "    <tr>\n",
              "      <th>3</th>\n",
              "      <td>1875-03-06</td>\n",
              "      <td>England</td>\n",
              "      <td>Scotland</td>\n",
              "      <td>2</td>\n",
              "      <td>2</td>\n",
              "      <td>Friendly</td>\n",
              "    </tr>\n",
              "  </tbody>\n",
              "</table>\n",
              "</div>"
            ],
            "text/plain": [
              "        date home_team away_team  home_score  away_score tournament\n",
              "0 1872-11-30  Scotland   England           0           0   Friendly\n",
              "1 1873-03-08   England  Scotland           4           2   Friendly\n",
              "2 1874-03-07  Scotland   England           2           1   Friendly\n",
              "3 1875-03-06   England  Scotland           2           2   Friendly"
            ]
          },
          "metadata": {
            "tags": []
          },
          "execution_count": 10
        }
      ]
    },
    {
      "cell_type": "code",
      "metadata": {
        "id": "xYHsbCS07iEr"
      },
      "source": [
        "#Assuming that Month and year will be necessary to the study and so we'll extract them\n",
        "\n",
        "results_df['year'] = pd.DatetimeIndex(results_df['date']).year\n",
        "results_df['month'] = pd.DatetimeIndex(results_df['date']).month\n"
      ],
      "execution_count": null,
      "outputs": []
    },
    {
      "cell_type": "markdown",
      "metadata": {
        "id": "us9WO46TgwR4"
      },
      "source": [
        "## B) The Fifa Ranking Dataset"
      ]
    },
    {
      "cell_type": "code",
      "metadata": {
        "id": "e7pG0VcAaljU"
      },
      "source": [
        "# loading the fifa ranking dataset \n",
        "ranks = pd.read_csv(\"fifa_ranking.csv\")"
      ],
      "execution_count": null,
      "outputs": []
    },
    {
      "cell_type": "code",
      "metadata": {
        "colab": {
          "base_uri": "https://localhost:8080/",
          "height": 261
        },
        "id": "53PAovcPcyVm",
        "outputId": "fefa3a8a-6c4c-45e8-f80b-7abb66a1c6a5"
      },
      "source": [
        "#Previewing the top of the dataset\n",
        "ranks.head(4)"
      ],
      "execution_count": null,
      "outputs": [
        {
          "output_type": "execute_result",
          "data": {
            "text/html": [
              "<div>\n",
              "<style scoped>\n",
              "    .dataframe tbody tr th:only-of-type {\n",
              "        vertical-align: middle;\n",
              "    }\n",
              "\n",
              "    .dataframe tbody tr th {\n",
              "        vertical-align: top;\n",
              "    }\n",
              "\n",
              "    .dataframe thead th {\n",
              "        text-align: right;\n",
              "    }\n",
              "</style>\n",
              "<table border=\"1\" class=\"dataframe\">\n",
              "  <thead>\n",
              "    <tr style=\"text-align: right;\">\n",
              "      <th></th>\n",
              "      <th>rank</th>\n",
              "      <th>country_full</th>\n",
              "      <th>country_abrv</th>\n",
              "      <th>total_points</th>\n",
              "      <th>previous_points</th>\n",
              "      <th>rank_change</th>\n",
              "      <th>cur_year_avg</th>\n",
              "      <th>cur_year_avg_weighted</th>\n",
              "      <th>last_year_avg</th>\n",
              "      <th>last_year_avg_weighted</th>\n",
              "      <th>two_year_ago_avg</th>\n",
              "      <th>two_year_ago_weighted</th>\n",
              "      <th>three_year_ago_avg</th>\n",
              "      <th>three_year_ago_weighted</th>\n",
              "      <th>confederation</th>\n",
              "      <th>rank_date</th>\n",
              "    </tr>\n",
              "  </thead>\n",
              "  <tbody>\n",
              "    <tr>\n",
              "      <th>0</th>\n",
              "      <td>1</td>\n",
              "      <td>Germany</td>\n",
              "      <td>GER</td>\n",
              "      <td>0.0</td>\n",
              "      <td>57</td>\n",
              "      <td>0</td>\n",
              "      <td>0.0</td>\n",
              "      <td>0.0</td>\n",
              "      <td>0.0</td>\n",
              "      <td>0.0</td>\n",
              "      <td>0.0</td>\n",
              "      <td>0.0</td>\n",
              "      <td>0.0</td>\n",
              "      <td>0.0</td>\n",
              "      <td>UEFA</td>\n",
              "      <td>1993-08-08</td>\n",
              "    </tr>\n",
              "    <tr>\n",
              "      <th>1</th>\n",
              "      <td>2</td>\n",
              "      <td>Italy</td>\n",
              "      <td>ITA</td>\n",
              "      <td>0.0</td>\n",
              "      <td>57</td>\n",
              "      <td>0</td>\n",
              "      <td>0.0</td>\n",
              "      <td>0.0</td>\n",
              "      <td>0.0</td>\n",
              "      <td>0.0</td>\n",
              "      <td>0.0</td>\n",
              "      <td>0.0</td>\n",
              "      <td>0.0</td>\n",
              "      <td>0.0</td>\n",
              "      <td>UEFA</td>\n",
              "      <td>1993-08-08</td>\n",
              "    </tr>\n",
              "    <tr>\n",
              "      <th>2</th>\n",
              "      <td>3</td>\n",
              "      <td>Switzerland</td>\n",
              "      <td>SUI</td>\n",
              "      <td>0.0</td>\n",
              "      <td>50</td>\n",
              "      <td>9</td>\n",
              "      <td>0.0</td>\n",
              "      <td>0.0</td>\n",
              "      <td>0.0</td>\n",
              "      <td>0.0</td>\n",
              "      <td>0.0</td>\n",
              "      <td>0.0</td>\n",
              "      <td>0.0</td>\n",
              "      <td>0.0</td>\n",
              "      <td>UEFA</td>\n",
              "      <td>1993-08-08</td>\n",
              "    </tr>\n",
              "    <tr>\n",
              "      <th>3</th>\n",
              "      <td>4</td>\n",
              "      <td>Sweden</td>\n",
              "      <td>SWE</td>\n",
              "      <td>0.0</td>\n",
              "      <td>55</td>\n",
              "      <td>0</td>\n",
              "      <td>0.0</td>\n",
              "      <td>0.0</td>\n",
              "      <td>0.0</td>\n",
              "      <td>0.0</td>\n",
              "      <td>0.0</td>\n",
              "      <td>0.0</td>\n",
              "      <td>0.0</td>\n",
              "      <td>0.0</td>\n",
              "      <td>UEFA</td>\n",
              "      <td>1993-08-08</td>\n",
              "    </tr>\n",
              "  </tbody>\n",
              "</table>\n",
              "</div>"
            ],
            "text/plain": [
              "   rank country_full  ... confederation   rank_date\n",
              "0     1      Germany  ...          UEFA  1993-08-08\n",
              "1     2        Italy  ...          UEFA  1993-08-08\n",
              "2     3  Switzerland  ...          UEFA  1993-08-08\n",
              "3     4       Sweden  ...          UEFA  1993-08-08\n",
              "\n",
              "[4 rows x 16 columns]"
            ]
          },
          "metadata": {
            "tags": []
          },
          "execution_count": 13
        }
      ]
    },
    {
      "cell_type": "code",
      "metadata": {
        "colab": {
          "base_uri": "https://localhost:8080/",
          "height": 261
        },
        "id": "4oOMMZsUc6JB",
        "outputId": "6076af40-c554-40d0-af15-a0d1e440d650"
      },
      "source": [
        "#Previewing the bottom of the dataset\n",
        "ranks.tail(4)"
      ],
      "execution_count": null,
      "outputs": [
        {
          "output_type": "execute_result",
          "data": {
            "text/html": [
              "<div>\n",
              "<style scoped>\n",
              "    .dataframe tbody tr th:only-of-type {\n",
              "        vertical-align: middle;\n",
              "    }\n",
              "\n",
              "    .dataframe tbody tr th {\n",
              "        vertical-align: top;\n",
              "    }\n",
              "\n",
              "    .dataframe thead th {\n",
              "        text-align: right;\n",
              "    }\n",
              "</style>\n",
              "<table border=\"1\" class=\"dataframe\">\n",
              "  <thead>\n",
              "    <tr style=\"text-align: right;\">\n",
              "      <th></th>\n",
              "      <th>rank</th>\n",
              "      <th>country_full</th>\n",
              "      <th>country_abrv</th>\n",
              "      <th>total_points</th>\n",
              "      <th>previous_points</th>\n",
              "      <th>rank_change</th>\n",
              "      <th>cur_year_avg</th>\n",
              "      <th>cur_year_avg_weighted</th>\n",
              "      <th>last_year_avg</th>\n",
              "      <th>last_year_avg_weighted</th>\n",
              "      <th>two_year_ago_avg</th>\n",
              "      <th>two_year_ago_weighted</th>\n",
              "      <th>three_year_ago_avg</th>\n",
              "      <th>three_year_ago_weighted</th>\n",
              "      <th>confederation</th>\n",
              "      <th>rank_date</th>\n",
              "    </tr>\n",
              "  </thead>\n",
              "  <tbody>\n",
              "    <tr>\n",
              "      <th>57789</th>\n",
              "      <td>206</td>\n",
              "      <td>Bahamas</td>\n",
              "      <td>BAH</td>\n",
              "      <td>0.0</td>\n",
              "      <td>0</td>\n",
              "      <td>1</td>\n",
              "      <td>0.0</td>\n",
              "      <td>0.0</td>\n",
              "      <td>0.0</td>\n",
              "      <td>0.0</td>\n",
              "      <td>0.0</td>\n",
              "      <td>0.0</td>\n",
              "      <td>0.0</td>\n",
              "      <td>0.0</td>\n",
              "      <td>CONCACAF</td>\n",
              "      <td>2018-06-07</td>\n",
              "    </tr>\n",
              "    <tr>\n",
              "      <th>57790</th>\n",
              "      <td>206</td>\n",
              "      <td>Eritrea</td>\n",
              "      <td>ERI</td>\n",
              "      <td>0.0</td>\n",
              "      <td>0</td>\n",
              "      <td>1</td>\n",
              "      <td>0.0</td>\n",
              "      <td>0.0</td>\n",
              "      <td>0.0</td>\n",
              "      <td>0.0</td>\n",
              "      <td>0.0</td>\n",
              "      <td>0.0</td>\n",
              "      <td>0.0</td>\n",
              "      <td>0.0</td>\n",
              "      <td>CAF</td>\n",
              "      <td>2018-06-07</td>\n",
              "    </tr>\n",
              "    <tr>\n",
              "      <th>57791</th>\n",
              "      <td>206</td>\n",
              "      <td>Somalia</td>\n",
              "      <td>SOM</td>\n",
              "      <td>0.0</td>\n",
              "      <td>0</td>\n",
              "      <td>1</td>\n",
              "      <td>0.0</td>\n",
              "      <td>0.0</td>\n",
              "      <td>0.0</td>\n",
              "      <td>0.0</td>\n",
              "      <td>0.0</td>\n",
              "      <td>0.0</td>\n",
              "      <td>0.0</td>\n",
              "      <td>0.0</td>\n",
              "      <td>CAF</td>\n",
              "      <td>2018-06-07</td>\n",
              "    </tr>\n",
              "    <tr>\n",
              "      <th>57792</th>\n",
              "      <td>206</td>\n",
              "      <td>Tonga</td>\n",
              "      <td>TGA</td>\n",
              "      <td>0.0</td>\n",
              "      <td>0</td>\n",
              "      <td>1</td>\n",
              "      <td>0.0</td>\n",
              "      <td>0.0</td>\n",
              "      <td>0.0</td>\n",
              "      <td>0.0</td>\n",
              "      <td>0.0</td>\n",
              "      <td>0.0</td>\n",
              "      <td>0.0</td>\n",
              "      <td>0.0</td>\n",
              "      <td>OFC</td>\n",
              "      <td>2018-06-07</td>\n",
              "    </tr>\n",
              "  </tbody>\n",
              "</table>\n",
              "</div>"
            ],
            "text/plain": [
              "       rank country_full  ... confederation   rank_date\n",
              "57789   206      Bahamas  ...      CONCACAF  2018-06-07\n",
              "57790   206      Eritrea  ...           CAF  2018-06-07\n",
              "57791   206      Somalia  ...           CAF  2018-06-07\n",
              "57792   206        Tonga  ...           OFC  2018-06-07\n",
              "\n",
              "[4 rows x 16 columns]"
            ]
          },
          "metadata": {
            "tags": []
          },
          "execution_count": 14
        }
      ]
    },
    {
      "cell_type": "code",
      "metadata": {
        "colab": {
          "base_uri": "https://localhost:8080/"
        },
        "id": "XjTR5SCkdAWa",
        "outputId": "c3819f1e-87c2-4f71-a8b8-68b91d12cb09"
      },
      "source": [
        "#determining number of records and columns in the dataset \n",
        "ranks.shape "
      ],
      "execution_count": null,
      "outputs": [
        {
          "output_type": "execute_result",
          "data": {
            "text/plain": [
              "(57793, 16)"
            ]
          },
          "metadata": {
            "tags": []
          },
          "execution_count": 15
        }
      ]
    },
    {
      "cell_type": "code",
      "metadata": {
        "colab": {
          "base_uri": "https://localhost:8080/"
        },
        "id": "YRPRg9HzfFJo",
        "outputId": "88e6e7bc-3bd4-46e9-bc0d-79910ebb0586"
      },
      "source": [
        "#determining the data types of the columns \n",
        "ranks.info()"
      ],
      "execution_count": null,
      "outputs": [
        {
          "output_type": "stream",
          "text": [
            "<class 'pandas.core.frame.DataFrame'>\n",
            "RangeIndex: 57793 entries, 0 to 57792\n",
            "Data columns (total 16 columns):\n",
            " #   Column                   Non-Null Count  Dtype  \n",
            "---  ------                   --------------  -----  \n",
            " 0   rank                     57793 non-null  int64  \n",
            " 1   country_full             57793 non-null  object \n",
            " 2   country_abrv             57793 non-null  object \n",
            " 3   total_points             57793 non-null  float64\n",
            " 4   previous_points          57793 non-null  int64  \n",
            " 5   rank_change              57793 non-null  int64  \n",
            " 6   cur_year_avg             57793 non-null  float64\n",
            " 7   cur_year_avg_weighted    57793 non-null  float64\n",
            " 8   last_year_avg            57793 non-null  float64\n",
            " 9   last_year_avg_weighted   57793 non-null  float64\n",
            " 10  two_year_ago_avg         57793 non-null  float64\n",
            " 11  two_year_ago_weighted    57793 non-null  float64\n",
            " 12  three_year_ago_avg       57793 non-null  float64\n",
            " 13  three_year_ago_weighted  57793 non-null  float64\n",
            " 14  confederation            57793 non-null  object \n",
            " 15  rank_date                57793 non-null  object \n",
            "dtypes: float64(9), int64(3), object(4)\n",
            "memory usage: 7.1+ MB\n"
          ],
          "name": "stdout"
        }
      ]
    },
    {
      "cell_type": "markdown",
      "metadata": {
        "id": "-B3BUteSfRCv"
      },
      "source": [
        "## Cleaning the fifa ranking dataset "
      ]
    },
    {
      "cell_type": "code",
      "metadata": {
        "colab": {
          "base_uri": "https://localhost:8080/"
        },
        "id": "zpEzUWJqlnGZ",
        "outputId": "ef81bf59-d0a5-4e40-c2ef-337d81226aa9"
      },
      "source": [
        "#converting the rank_date column from object to datetime format \n",
        "ranks[\"rank_date\"] = ranks[\"rank_date\"].apply(pd.to_datetime) \n",
        "\n",
        "#confirming the conversion of the data types \n",
        "ranks.dtypes"
      ],
      "execution_count": null,
      "outputs": [
        {
          "output_type": "execute_result",
          "data": {
            "text/plain": [
              "rank                                int64\n",
              "country_full                       object\n",
              "country_abrv                       object\n",
              "total_points                      float64\n",
              "previous_points                     int64\n",
              "rank_change                         int64\n",
              "cur_year_avg                      float64\n",
              "cur_year_avg_weighted             float64\n",
              "last_year_avg                     float64\n",
              "last_year_avg_weighted            float64\n",
              "two_year_ago_avg                  float64\n",
              "two_year_ago_weighted             float64\n",
              "three_year_ago_avg                float64\n",
              "three_year_ago_weighted           float64\n",
              "confederation                      object\n",
              "rank_date                  datetime64[ns]\n",
              "dtype: object"
            ]
          },
          "metadata": {
            "tags": []
          },
          "execution_count": 17
        }
      ]
    },
    {
      "cell_type": "code",
      "metadata": {
        "colab": {
          "base_uri": "https://localhost:8080/"
        },
        "id": "7aKaV9JOfa5W",
        "outputId": "2cac1b4b-73a0-4b34-871c-80dd1f87ff4e"
      },
      "source": [
        "#checking for null values in the dataset \n",
        "ranks.isnull().sum()\n",
        "#there are no missing values "
      ],
      "execution_count": null,
      "outputs": [
        {
          "output_type": "execute_result",
          "data": {
            "text/plain": [
              "rank                       0\n",
              "country_full               0\n",
              "country_abrv               0\n",
              "total_points               0\n",
              "previous_points            0\n",
              "rank_change                0\n",
              "cur_year_avg               0\n",
              "cur_year_avg_weighted      0\n",
              "last_year_avg              0\n",
              "last_year_avg_weighted     0\n",
              "two_year_ago_avg           0\n",
              "two_year_ago_weighted      0\n",
              "three_year_ago_avg         0\n",
              "three_year_ago_weighted    0\n",
              "confederation              0\n",
              "rank_date                  0\n",
              "dtype: int64"
            ]
          },
          "metadata": {
            "tags": []
          },
          "execution_count": 18
        }
      ]
    },
    {
      "cell_type": "code",
      "metadata": {
        "colab": {
          "base_uri": "https://localhost:8080/"
        },
        "id": "XFlhKHl0idZb",
        "outputId": "1e94815c-84e4-47a0-b66f-9b919ea818f9"
      },
      "source": [
        "#checking for duplicated values \n",
        "ranks.duplicated().sum()\n",
        "\n",
        "#droppping duplicates values in the dataset\n",
        "ranks = ranks.drop_duplicates()\n",
        "ranks.shape"
      ],
      "execution_count": null,
      "outputs": [
        {
          "output_type": "execute_result",
          "data": {
            "text/plain": [
              "(57756, 16)"
            ]
          },
          "metadata": {
            "tags": []
          },
          "execution_count": 19
        }
      ]
    },
    {
      "cell_type": "code",
      "metadata": {
        "colab": {
          "base_uri": "https://localhost:8080/",
          "height": 416
        },
        "id": "blYV_DuYfZ6K",
        "outputId": "831b6342-48c6-46cd-d628-d5e0d59461e9"
      },
      "source": [
        "#dropping unnecesary columns not needed in the analysis \n",
        "\n",
        "ranks_df = ranks.drop(['cur_year_avg', 'cur_year_avg_weighted','last_year_avg','last_year_avg_weighted','two_year_ago_avg','two_year_ago_weighted','three_year_ago_avg','three_year_ago_weighted','country_abrv','total_points','previous_points','rank_change'],axis= True)\n",
        "ranks_df"
      ],
      "execution_count": null,
      "outputs": [
        {
          "output_type": "execute_result",
          "data": {
            "text/html": [
              "<div>\n",
              "<style scoped>\n",
              "    .dataframe tbody tr th:only-of-type {\n",
              "        vertical-align: middle;\n",
              "    }\n",
              "\n",
              "    .dataframe tbody tr th {\n",
              "        vertical-align: top;\n",
              "    }\n",
              "\n",
              "    .dataframe thead th {\n",
              "        text-align: right;\n",
              "    }\n",
              "</style>\n",
              "<table border=\"1\" class=\"dataframe\">\n",
              "  <thead>\n",
              "    <tr style=\"text-align: right;\">\n",
              "      <th></th>\n",
              "      <th>rank</th>\n",
              "      <th>country_full</th>\n",
              "      <th>confederation</th>\n",
              "      <th>rank_date</th>\n",
              "    </tr>\n",
              "  </thead>\n",
              "  <tbody>\n",
              "    <tr>\n",
              "      <th>0</th>\n",
              "      <td>1</td>\n",
              "      <td>Germany</td>\n",
              "      <td>UEFA</td>\n",
              "      <td>1993-08-08</td>\n",
              "    </tr>\n",
              "    <tr>\n",
              "      <th>1</th>\n",
              "      <td>2</td>\n",
              "      <td>Italy</td>\n",
              "      <td>UEFA</td>\n",
              "      <td>1993-08-08</td>\n",
              "    </tr>\n",
              "    <tr>\n",
              "      <th>2</th>\n",
              "      <td>3</td>\n",
              "      <td>Switzerland</td>\n",
              "      <td>UEFA</td>\n",
              "      <td>1993-08-08</td>\n",
              "    </tr>\n",
              "    <tr>\n",
              "      <th>3</th>\n",
              "      <td>4</td>\n",
              "      <td>Sweden</td>\n",
              "      <td>UEFA</td>\n",
              "      <td>1993-08-08</td>\n",
              "    </tr>\n",
              "    <tr>\n",
              "      <th>4</th>\n",
              "      <td>5</td>\n",
              "      <td>Argentina</td>\n",
              "      <td>CONMEBOL</td>\n",
              "      <td>1993-08-08</td>\n",
              "    </tr>\n",
              "    <tr>\n",
              "      <th>...</th>\n",
              "      <td>...</td>\n",
              "      <td>...</td>\n",
              "      <td>...</td>\n",
              "      <td>...</td>\n",
              "    </tr>\n",
              "    <tr>\n",
              "      <th>57788</th>\n",
              "      <td>206</td>\n",
              "      <td>Anguilla</td>\n",
              "      <td>CONCACAF</td>\n",
              "      <td>2018-06-07</td>\n",
              "    </tr>\n",
              "    <tr>\n",
              "      <th>57789</th>\n",
              "      <td>206</td>\n",
              "      <td>Bahamas</td>\n",
              "      <td>CONCACAF</td>\n",
              "      <td>2018-06-07</td>\n",
              "    </tr>\n",
              "    <tr>\n",
              "      <th>57790</th>\n",
              "      <td>206</td>\n",
              "      <td>Eritrea</td>\n",
              "      <td>CAF</td>\n",
              "      <td>2018-06-07</td>\n",
              "    </tr>\n",
              "    <tr>\n",
              "      <th>57791</th>\n",
              "      <td>206</td>\n",
              "      <td>Somalia</td>\n",
              "      <td>CAF</td>\n",
              "      <td>2018-06-07</td>\n",
              "    </tr>\n",
              "    <tr>\n",
              "      <th>57792</th>\n",
              "      <td>206</td>\n",
              "      <td>Tonga</td>\n",
              "      <td>OFC</td>\n",
              "      <td>2018-06-07</td>\n",
              "    </tr>\n",
              "  </tbody>\n",
              "</table>\n",
              "<p>57756 rows × 4 columns</p>\n",
              "</div>"
            ],
            "text/plain": [
              "       rank country_full confederation  rank_date\n",
              "0         1      Germany          UEFA 1993-08-08\n",
              "1         2        Italy          UEFA 1993-08-08\n",
              "2         3  Switzerland          UEFA 1993-08-08\n",
              "3         4       Sweden          UEFA 1993-08-08\n",
              "4         5    Argentina      CONMEBOL 1993-08-08\n",
              "...     ...          ...           ...        ...\n",
              "57788   206     Anguilla      CONCACAF 2018-06-07\n",
              "57789   206      Bahamas      CONCACAF 2018-06-07\n",
              "57790   206      Eritrea           CAF 2018-06-07\n",
              "57791   206      Somalia           CAF 2018-06-07\n",
              "57792   206        Tonga           OFC 2018-06-07\n",
              "\n",
              "[57756 rows x 4 columns]"
            ]
          },
          "metadata": {
            "tags": []
          },
          "execution_count": 20
        }
      ]
    },
    {
      "cell_type": "code",
      "metadata": {
        "id": "r3yP__hH74DY"
      },
      "source": [
        "#Assuming that Month and year will be necessary to the study and so we'll extract them\n",
        "\n",
        "ranks_df['year'] = pd.DatetimeIndex(ranks_df['rank_date']).year\n",
        "ranks_df['month'] = pd.DatetimeIndex(ranks_df['rank_date']).month\n"
      ],
      "execution_count": null,
      "outputs": []
    },
    {
      "cell_type": "markdown",
      "metadata": {
        "id": "QbY5FEdYvpCu"
      },
      "source": [
        "## Merging the two datasets "
      ]
    },
    {
      "cell_type": "code",
      "metadata": {
        "id": "GFwBrMyb8GbA",
        "colab": {
          "base_uri": "https://localhost:8080/",
          "height": 202
        },
        "outputId": "63ea2907-373a-4dbf-ffd8-153dbf8307a2"
      },
      "source": [
        "# here we will merge the cleaned result dataset and the fifa ranking datset \n",
        "#Joining the 2 datasets on the year and month column\n",
        "combined_df = results_df.merge( ranks_df, left_on=['year', 'month'], right_on=['year', 'month'],how='inner')\n",
        "\n",
        "combined_df.head()\n"
      ],
      "execution_count": null,
      "outputs": [
        {
          "output_type": "execute_result",
          "data": {
            "text/html": [
              "<div>\n",
              "<style scoped>\n",
              "    .dataframe tbody tr th:only-of-type {\n",
              "        vertical-align: middle;\n",
              "    }\n",
              "\n",
              "    .dataframe tbody tr th {\n",
              "        vertical-align: top;\n",
              "    }\n",
              "\n",
              "    .dataframe thead th {\n",
              "        text-align: right;\n",
              "    }\n",
              "</style>\n",
              "<table border=\"1\" class=\"dataframe\">\n",
              "  <thead>\n",
              "    <tr style=\"text-align: right;\">\n",
              "      <th></th>\n",
              "      <th>date</th>\n",
              "      <th>home_team</th>\n",
              "      <th>away_team</th>\n",
              "      <th>home_score</th>\n",
              "      <th>away_score</th>\n",
              "      <th>tournament</th>\n",
              "      <th>year</th>\n",
              "      <th>month</th>\n",
              "      <th>rank</th>\n",
              "      <th>country_full</th>\n",
              "      <th>confederation</th>\n",
              "      <th>rank_date</th>\n",
              "    </tr>\n",
              "  </thead>\n",
              "  <tbody>\n",
              "    <tr>\n",
              "      <th>0</th>\n",
              "      <td>1993-08-01</td>\n",
              "      <td>Colombia</td>\n",
              "      <td>Paraguay</td>\n",
              "      <td>0</td>\n",
              "      <td>0</td>\n",
              "      <td>FIFA World Cup qualification</td>\n",
              "      <td>1993</td>\n",
              "      <td>8</td>\n",
              "      <td>1</td>\n",
              "      <td>Germany</td>\n",
              "      <td>UEFA</td>\n",
              "      <td>1993-08-08</td>\n",
              "    </tr>\n",
              "    <tr>\n",
              "      <th>1</th>\n",
              "      <td>1993-08-01</td>\n",
              "      <td>Colombia</td>\n",
              "      <td>Paraguay</td>\n",
              "      <td>0</td>\n",
              "      <td>0</td>\n",
              "      <td>FIFA World Cup qualification</td>\n",
              "      <td>1993</td>\n",
              "      <td>8</td>\n",
              "      <td>2</td>\n",
              "      <td>Italy</td>\n",
              "      <td>UEFA</td>\n",
              "      <td>1993-08-08</td>\n",
              "    </tr>\n",
              "    <tr>\n",
              "      <th>2</th>\n",
              "      <td>1993-08-01</td>\n",
              "      <td>Colombia</td>\n",
              "      <td>Paraguay</td>\n",
              "      <td>0</td>\n",
              "      <td>0</td>\n",
              "      <td>FIFA World Cup qualification</td>\n",
              "      <td>1993</td>\n",
              "      <td>8</td>\n",
              "      <td>3</td>\n",
              "      <td>Switzerland</td>\n",
              "      <td>UEFA</td>\n",
              "      <td>1993-08-08</td>\n",
              "    </tr>\n",
              "    <tr>\n",
              "      <th>3</th>\n",
              "      <td>1993-08-01</td>\n",
              "      <td>Colombia</td>\n",
              "      <td>Paraguay</td>\n",
              "      <td>0</td>\n",
              "      <td>0</td>\n",
              "      <td>FIFA World Cup qualification</td>\n",
              "      <td>1993</td>\n",
              "      <td>8</td>\n",
              "      <td>4</td>\n",
              "      <td>Sweden</td>\n",
              "      <td>UEFA</td>\n",
              "      <td>1993-08-08</td>\n",
              "    </tr>\n",
              "    <tr>\n",
              "      <th>4</th>\n",
              "      <td>1993-08-01</td>\n",
              "      <td>Colombia</td>\n",
              "      <td>Paraguay</td>\n",
              "      <td>0</td>\n",
              "      <td>0</td>\n",
              "      <td>FIFA World Cup qualification</td>\n",
              "      <td>1993</td>\n",
              "      <td>8</td>\n",
              "      <td>5</td>\n",
              "      <td>Argentina</td>\n",
              "      <td>CONMEBOL</td>\n",
              "      <td>1993-08-08</td>\n",
              "    </tr>\n",
              "  </tbody>\n",
              "</table>\n",
              "</div>"
            ],
            "text/plain": [
              "        date home_team away_team  ...  country_full  confederation  rank_date\n",
              "0 1993-08-01  Colombia  Paraguay  ...       Germany           UEFA 1993-08-08\n",
              "1 1993-08-01  Colombia  Paraguay  ...         Italy           UEFA 1993-08-08\n",
              "2 1993-08-01  Colombia  Paraguay  ...   Switzerland           UEFA 1993-08-08\n",
              "3 1993-08-01  Colombia  Paraguay  ...        Sweden           UEFA 1993-08-08\n",
              "4 1993-08-01  Colombia  Paraguay  ...     Argentina       CONMEBOL 1993-08-08\n",
              "\n",
              "[5 rows x 12 columns]"
            ]
          },
          "metadata": {
            "tags": []
          },
          "execution_count": 22
        }
      ]
    },
    {
      "cell_type": "code",
      "metadata": {
        "colab": {
          "base_uri": "https://localhost:8080/"
        },
        "id": "bP1yYWzPKnYO",
        "outputId": "47a646f5-32cc-4845-c96d-3455994be62d"
      },
      "source": [
        "# checking the number of entries in thd merged dataset\n",
        "combined_df.shape"
      ],
      "execution_count": null,
      "outputs": [
        {
          "output_type": "execute_result",
          "data": {
            "text/plain": [
              "(4291108, 12)"
            ]
          },
          "metadata": {
            "tags": []
          },
          "execution_count": 23
        }
      ]
    },
    {
      "cell_type": "code",
      "metadata": {
        "colab": {
          "base_uri": "https://localhost:8080/"
        },
        "id": "BLU8JystWr9r",
        "outputId": "d35778fc-19b5-4a5b-b9cf-78ab8f63e077"
      },
      "source": [
        "# checking for null values in the merged dataset \n",
        "combined_df.isnull().sum()"
      ],
      "execution_count": null,
      "outputs": [
        {
          "output_type": "execute_result",
          "data": {
            "text/plain": [
              "date             0\n",
              "home_team        0\n",
              "away_team        0\n",
              "home_score       0\n",
              "away_score       0\n",
              "tournament       0\n",
              "year             0\n",
              "month            0\n",
              "rank             0\n",
              "country_full     0\n",
              "confederation    0\n",
              "rank_date        0\n",
              "dtype: int64"
            ]
          },
          "metadata": {
            "tags": []
          },
          "execution_count": 24
        }
      ]
    },
    {
      "cell_type": "markdown",
      "metadata": {
        "id": "h-Kuz8fY9g_B"
      },
      "source": [
        "The point of the codes down below is to try and get 2 rank columns, 1 for each team i.e away team and home team. First thing done was to get the away team and home team datasets separately."
      ]
    },
    {
      "cell_type": "code",
      "metadata": {
        "id": "NJVvlYZz8GoY"
      },
      "source": [
        "#Creating a hometeam_rank & awayteam_ranks column\n",
        "\n",
        "df1 = combined_df[combined_df['home_team'] == combined_df['country_full']]\n",
        "df2 = combined_df[combined_df['away_team'] == combined_df['country_full']]"
      ],
      "execution_count": null,
      "outputs": []
    },
    {
      "cell_type": "code",
      "metadata": {
        "id": "_Zzcc27i9MMN",
        "colab": {
          "base_uri": "https://localhost:8080/",
          "height": 396
        },
        "outputId": "07170216-00bb-429e-efa7-c7b44940bb35"
      },
      "source": [
        "# Merging both the away team and home team\n",
        "combined_df = pd.merge(df1, df2, how = 'left', left_on = ['home_team', 'away_team', 'tournament', 'year', 'home_score', 'away_score'],\\\n",
        "                  right_on = ['home_team', 'away_team', 'tournament', 'year', 'home_score', 'away_score'])\n",
        "combined_df.head()"
      ],
      "execution_count": null,
      "outputs": [
        {
          "output_type": "execute_result",
          "data": {
            "text/html": [
              "<div>\n",
              "<style scoped>\n",
              "    .dataframe tbody tr th:only-of-type {\n",
              "        vertical-align: middle;\n",
              "    }\n",
              "\n",
              "    .dataframe tbody tr th {\n",
              "        vertical-align: top;\n",
              "    }\n",
              "\n",
              "    .dataframe thead th {\n",
              "        text-align: right;\n",
              "    }\n",
              "</style>\n",
              "<table border=\"1\" class=\"dataframe\">\n",
              "  <thead>\n",
              "    <tr style=\"text-align: right;\">\n",
              "      <th></th>\n",
              "      <th>date_x</th>\n",
              "      <th>home_team</th>\n",
              "      <th>away_team</th>\n",
              "      <th>home_score</th>\n",
              "      <th>away_score</th>\n",
              "      <th>tournament</th>\n",
              "      <th>year</th>\n",
              "      <th>month_x</th>\n",
              "      <th>rank_x</th>\n",
              "      <th>country_full_x</th>\n",
              "      <th>confederation_x</th>\n",
              "      <th>rank_date_x</th>\n",
              "      <th>date_y</th>\n",
              "      <th>month_y</th>\n",
              "      <th>rank_y</th>\n",
              "      <th>country_full_y</th>\n",
              "      <th>confederation_y</th>\n",
              "      <th>rank_date_y</th>\n",
              "    </tr>\n",
              "  </thead>\n",
              "  <tbody>\n",
              "    <tr>\n",
              "      <th>0</th>\n",
              "      <td>1993-08-01</td>\n",
              "      <td>Colombia</td>\n",
              "      <td>Paraguay</td>\n",
              "      <td>0</td>\n",
              "      <td>0</td>\n",
              "      <td>FIFA World Cup qualification</td>\n",
              "      <td>1993</td>\n",
              "      <td>8</td>\n",
              "      <td>19</td>\n",
              "      <td>Colombia</td>\n",
              "      <td>CONMEBOL</td>\n",
              "      <td>1993-08-08</td>\n",
              "      <td>1993-08-01</td>\n",
              "      <td>8.0</td>\n",
              "      <td>67.0</td>\n",
              "      <td>Paraguay</td>\n",
              "      <td>CONMEBOL</td>\n",
              "      <td>1993-08-08</td>\n",
              "    </tr>\n",
              "    <tr>\n",
              "      <th>1</th>\n",
              "      <td>1993-08-01</td>\n",
              "      <td>Peru</td>\n",
              "      <td>Argentina</td>\n",
              "      <td>0</td>\n",
              "      <td>1</td>\n",
              "      <td>FIFA World Cup qualification</td>\n",
              "      <td>1993</td>\n",
              "      <td>8</td>\n",
              "      <td>70</td>\n",
              "      <td>Peru</td>\n",
              "      <td>CONMEBOL</td>\n",
              "      <td>1993-08-08</td>\n",
              "      <td>1993-08-01</td>\n",
              "      <td>8.0</td>\n",
              "      <td>5.0</td>\n",
              "      <td>Argentina</td>\n",
              "      <td>CONMEBOL</td>\n",
              "      <td>1993-08-08</td>\n",
              "    </tr>\n",
              "    <tr>\n",
              "      <th>2</th>\n",
              "      <td>1993-08-01</td>\n",
              "      <td>Uruguay</td>\n",
              "      <td>Ecuador</td>\n",
              "      <td>0</td>\n",
              "      <td>0</td>\n",
              "      <td>FIFA World Cup qualification</td>\n",
              "      <td>1993</td>\n",
              "      <td>8</td>\n",
              "      <td>22</td>\n",
              "      <td>Uruguay</td>\n",
              "      <td>CONMEBOL</td>\n",
              "      <td>1993-08-08</td>\n",
              "      <td>1993-08-01</td>\n",
              "      <td>8.0</td>\n",
              "      <td>35.0</td>\n",
              "      <td>Ecuador</td>\n",
              "      <td>CONMEBOL</td>\n",
              "      <td>1993-08-08</td>\n",
              "    </tr>\n",
              "    <tr>\n",
              "      <th>3</th>\n",
              "      <td>1993-08-01</td>\n",
              "      <td>Venezuela</td>\n",
              "      <td>Brazil</td>\n",
              "      <td>1</td>\n",
              "      <td>5</td>\n",
              "      <td>FIFA World Cup qualification</td>\n",
              "      <td>1993</td>\n",
              "      <td>8</td>\n",
              "      <td>94</td>\n",
              "      <td>Venezuela</td>\n",
              "      <td>CONMEBOL</td>\n",
              "      <td>1993-08-08</td>\n",
              "      <td>1993-08-01</td>\n",
              "      <td>8.0</td>\n",
              "      <td>8.0</td>\n",
              "      <td>Brazil</td>\n",
              "      <td>CONMEBOL</td>\n",
              "      <td>1993-08-08</td>\n",
              "    </tr>\n",
              "    <tr>\n",
              "      <th>4</th>\n",
              "      <td>1993-08-07</td>\n",
              "      <td>Senegal</td>\n",
              "      <td>Zambia</td>\n",
              "      <td>0</td>\n",
              "      <td>0</td>\n",
              "      <td>FIFA World Cup qualification</td>\n",
              "      <td>1993</td>\n",
              "      <td>8</td>\n",
              "      <td>58</td>\n",
              "      <td>Senegal</td>\n",
              "      <td>CAF</td>\n",
              "      <td>1993-08-08</td>\n",
              "      <td>1993-08-07</td>\n",
              "      <td>8.0</td>\n",
              "      <td>25.0</td>\n",
              "      <td>Zambia</td>\n",
              "      <td>CAF</td>\n",
              "      <td>1993-08-08</td>\n",
              "    </tr>\n",
              "  </tbody>\n",
              "</table>\n",
              "</div>"
            ],
            "text/plain": [
              "      date_x  home_team  away_team  ...  country_full_y  confederation_y rank_date_y\n",
              "0 1993-08-01   Colombia   Paraguay  ...        Paraguay         CONMEBOL  1993-08-08\n",
              "1 1993-08-01       Peru  Argentina  ...       Argentina         CONMEBOL  1993-08-08\n",
              "2 1993-08-01    Uruguay    Ecuador  ...         Ecuador         CONMEBOL  1993-08-08\n",
              "3 1993-08-01  Venezuela     Brazil  ...          Brazil         CONMEBOL  1993-08-08\n",
              "4 1993-08-07    Senegal     Zambia  ...          Zambia              CAF  1993-08-08\n",
              "\n",
              "[5 rows x 18 columns]"
            ]
          },
          "metadata": {
            "tags": []
          },
          "execution_count": 26
        }
      ]
    },
    {
      "cell_type": "markdown",
      "metadata": {
        "id": "SCydGN2MVQhj"
      },
      "source": [
        "# 3.Data Cleaning the final combined merged dataset"
      ]
    },
    {
      "cell_type": "code",
      "metadata": {
        "colab": {
          "base_uri": "https://localhost:8080/"
        },
        "id": "DJW4di5UTLUh",
        "outputId": "bf7627e7-69bd-4b98-b94e-fbe7f84969d1"
      },
      "source": [
        "# getting the dataset size that is columns and rows\n",
        "combined_df.shape"
      ],
      "execution_count": null,
      "outputs": [
        {
          "output_type": "execute_result",
          "data": {
            "text/plain": [
              "(18801, 18)"
            ]
          },
          "metadata": {
            "tags": []
          },
          "execution_count": 27
        }
      ]
    },
    {
      "cell_type": "code",
      "metadata": {
        "id": "Li43Qna9dD8a"
      },
      "source": [
        "#dropping unneceassary columns \n",
        "combined_df = combined_df.drop(['date_x', 'month_x', 'country_full_x', 'confederation_x','rank_date_x', 'date_y', 'month_y', 'country_full_y', 'confederation_y', 'rank_date_y'], axis = True)\n",
        "\n",
        "# renaming the columns for uniformity\n",
        "combined_df.columns = ['hometeam','awayteam','homescore','awayscore','tournament','year', 'homerank','awayrank']\n"
      ],
      "execution_count": null,
      "outputs": []
    },
    {
      "cell_type": "code",
      "metadata": {
        "colab": {
          "base_uri": "https://localhost:8080/"
        },
        "id": "jkb-kDmfTLYy",
        "outputId": "d5055505-5211-4032-a8af-e4ee01474031"
      },
      "source": [
        "#checking for null values\n",
        "combined_df.isnull().sum()"
      ],
      "execution_count": null,
      "outputs": [
        {
          "output_type": "execute_result",
          "data": {
            "text/plain": [
              "hometeam         0\n",
              "awayteam         0\n",
              "homescore        0\n",
              "awayscore        0\n",
              "tournament       0\n",
              "year             0\n",
              "homerank         0\n",
              "awayrank      1773\n",
              "dtype: int64"
            ]
          },
          "metadata": {
            "tags": []
          },
          "execution_count": 29
        }
      ]
    },
    {
      "cell_type": "code",
      "metadata": {
        "colab": {
          "base_uri": "https://localhost:8080/"
        },
        "id": "6EwntWR2ck1r",
        "outputId": "9ed2bbac-7d4a-4b48-ed26-bcaa7876e5a3"
      },
      "source": [
        "#dropping all null values \n",
        "combined_df = combined_df.dropna()\n",
        "combined_df.shape"
      ],
      "execution_count": null,
      "outputs": [
        {
          "output_type": "execute_result",
          "data": {
            "text/plain": [
              "(17028, 8)"
            ]
          },
          "metadata": {
            "tags": []
          },
          "execution_count": 30
        }
      ]
    },
    {
      "cell_type": "code",
      "metadata": {
        "colab": {
          "base_uri": "https://localhost:8080/",
          "height": 202
        },
        "id": "nDZfYAHidEW0",
        "outputId": "c665ced6-8e13-44e9-80f0-cf89a603d2a3"
      },
      "source": [
        "# preview of the dataset\n",
        "combined_df.head()"
      ],
      "execution_count": null,
      "outputs": [
        {
          "output_type": "execute_result",
          "data": {
            "text/html": [
              "<div>\n",
              "<style scoped>\n",
              "    .dataframe tbody tr th:only-of-type {\n",
              "        vertical-align: middle;\n",
              "    }\n",
              "\n",
              "    .dataframe tbody tr th {\n",
              "        vertical-align: top;\n",
              "    }\n",
              "\n",
              "    .dataframe thead th {\n",
              "        text-align: right;\n",
              "    }\n",
              "</style>\n",
              "<table border=\"1\" class=\"dataframe\">\n",
              "  <thead>\n",
              "    <tr style=\"text-align: right;\">\n",
              "      <th></th>\n",
              "      <th>hometeam</th>\n",
              "      <th>awayteam</th>\n",
              "      <th>homescore</th>\n",
              "      <th>awayscore</th>\n",
              "      <th>tournament</th>\n",
              "      <th>year</th>\n",
              "      <th>homerank</th>\n",
              "      <th>awayrank</th>\n",
              "    </tr>\n",
              "  </thead>\n",
              "  <tbody>\n",
              "    <tr>\n",
              "      <th>0</th>\n",
              "      <td>Colombia</td>\n",
              "      <td>Paraguay</td>\n",
              "      <td>0</td>\n",
              "      <td>0</td>\n",
              "      <td>FIFA World Cup qualification</td>\n",
              "      <td>1993</td>\n",
              "      <td>19</td>\n",
              "      <td>67.0</td>\n",
              "    </tr>\n",
              "    <tr>\n",
              "      <th>1</th>\n",
              "      <td>Peru</td>\n",
              "      <td>Argentina</td>\n",
              "      <td>0</td>\n",
              "      <td>1</td>\n",
              "      <td>FIFA World Cup qualification</td>\n",
              "      <td>1993</td>\n",
              "      <td>70</td>\n",
              "      <td>5.0</td>\n",
              "    </tr>\n",
              "    <tr>\n",
              "      <th>2</th>\n",
              "      <td>Uruguay</td>\n",
              "      <td>Ecuador</td>\n",
              "      <td>0</td>\n",
              "      <td>0</td>\n",
              "      <td>FIFA World Cup qualification</td>\n",
              "      <td>1993</td>\n",
              "      <td>22</td>\n",
              "      <td>35.0</td>\n",
              "    </tr>\n",
              "    <tr>\n",
              "      <th>3</th>\n",
              "      <td>Venezuela</td>\n",
              "      <td>Brazil</td>\n",
              "      <td>1</td>\n",
              "      <td>5</td>\n",
              "      <td>FIFA World Cup qualification</td>\n",
              "      <td>1993</td>\n",
              "      <td>94</td>\n",
              "      <td>8.0</td>\n",
              "    </tr>\n",
              "    <tr>\n",
              "      <th>4</th>\n",
              "      <td>Senegal</td>\n",
              "      <td>Zambia</td>\n",
              "      <td>0</td>\n",
              "      <td>0</td>\n",
              "      <td>FIFA World Cup qualification</td>\n",
              "      <td>1993</td>\n",
              "      <td>58</td>\n",
              "      <td>25.0</td>\n",
              "    </tr>\n",
              "  </tbody>\n",
              "</table>\n",
              "</div>"
            ],
            "text/plain": [
              "    hometeam   awayteam  homescore  ...  year homerank  awayrank\n",
              "0   Colombia   Paraguay          0  ...  1993       19      67.0\n",
              "1       Peru  Argentina          0  ...  1993       70       5.0\n",
              "2    Uruguay    Ecuador          0  ...  1993       22      35.0\n",
              "3  Venezuela     Brazil          1  ...  1993       94       8.0\n",
              "4    Senegal     Zambia          0  ...  1993       58      25.0\n",
              "\n",
              "[5 rows x 8 columns]"
            ]
          },
          "metadata": {
            "tags": []
          },
          "execution_count": 31
        }
      ]
    },
    {
      "cell_type": "code",
      "metadata": {
        "colab": {
          "base_uri": "https://localhost:8080/",
          "height": 1000
        },
        "id": "SeHbk0GcvwWQ",
        "outputId": "ae10967b-7dd5-41e7-b48e-603ebdc88cec"
      },
      "source": [
        "# checking for outliers \n",
        "cols = ['awayrank','homerank', 'awayscore', 'homescore']\n",
        "\n",
        "for column in cols:\n",
        "    plt.figure()\n",
        "    combined_df.boxplot([column], fontsize= 12)\n",
        "    plt.ylabel('count', fontsize = 12)\n",
        "    plt.title('Boxplot - {}'.format(column), fontsize = 16)"
      ],
      "execution_count": null,
      "outputs": [
        {
          "output_type": "display_data",
          "data": {
            "image/png": "[encoded data removed]",
            "text/plain": [
              "<Figure size 432x288 with 1 Axes>"
            ]
          },
          "metadata": {
            "tags": [],
            "needs_background": "light"
          }
        },
        {
          "output_type": "display_data",
          "data": {
            "image/png": "[encoded data removed]",
            "text/plain": [
              "<Figure size 432x288 with 1 Axes>"
            ]
          },
          "metadata": {
            "tags": [],
            "needs_background": "light"
          }
        },
        {
          "output_type": "display_data",
          "data": {
            "image/png": "[encoded data removed]",
            "text/plain": [
              "<Figure size 432x288 with 1 Axes>"
            ]
          },
          "metadata": {
            "tags": [],
            "needs_background": "light"
          }
        },
        {
          "output_type": "display_data",
          "data": {
            "image/png": "[encoded data removed]",
            "text/plain": [
              "<Figure size 432x288 with 1 Axes>"
            ]
          },
          "metadata": {
            "tags": [],
            "needs_background": "light"
          }
        }
      ]
    },
    {
      "cell_type": "markdown",
      "metadata": {
        "id": "1beFrNRGRPVM"
      },
      "source": [
        "There are outliers in the homescore and awayscore columns but these wont be removed since in football matches there are instances where vey high scoring occurs. "
      ]
    },
    {
      "cell_type": "code",
      "metadata": {
        "id": "WA5PmVLhNBKm",
        "colab": {
          "base_uri": "https://localhost:8080/"
        },
        "outputId": "b38e2589-5374-4a6b-fb0f-eab857b3eaeb"
      },
      "source": [
        "#checking for anomalies \n",
        "Q1 = combined_df.quantile(0.25)\n",
        "Q3 = combined_df.quantile(0.75)\n",
        "IQR = Q3- Q1\n",
        "IQR\n"
      ],
      "execution_count": null,
      "outputs": [
        {
          "output_type": "execute_result",
          "data": {
            "text/plain": [
              "homescore     2.0\n",
              "awayscore     2.0\n",
              "year         11.0\n",
              "homerank     79.0\n",
              "awayrank     80.0\n",
              "dtype: float64"
            ]
          },
          "metadata": {
            "tags": []
          },
          "execution_count": 33
        }
      ]
    },
    {
      "cell_type": "code",
      "metadata": {
        "id": "bvVthSj-UwUM"
      },
      "source": [
        "#exporting the cleaned merged dataset to be used fpr analysis \n",
        "combined_df.to_csv('ranking_results.csv')"
      ],
      "execution_count": null,
      "outputs": []
    },
    {
      "cell_type": "markdown",
      "metadata": {
        "id": "aPuGBoz_86Un"
      },
      "source": [
        "# 4.Exploratory Data Analyis "
      ]
    },
    {
      "cell_type": "markdown",
      "metadata": {
        "id": "ixTEo6MP9F9l"
      },
      "source": [
        "## a)Univariate Analysis "
      ]
    },
    {
      "cell_type": "code",
      "metadata": {
        "colab": {
          "base_uri": "https://localhost:8080/",
          "height": 316
        },
        "id": "blFJT5UPXGbF",
        "outputId": "ef7ab60a-561c-49ad-8bd0-6daf4a81913b"
      },
      "source": [
        "#histogram of home scores\n",
        "\n",
        "plt.hist(combined_df['homescore'], bins= [0,2,4,6,8,10,12], rwidth = 2)\n",
        "plt.xlabel('Home goals scored',fontsize = 12)\n",
        "plt.ylabel('count', fontsize = 12)\n",
        "plt.title('Histogram of home goals scored' , fontsize=14)\n"
      ],
      "execution_count": null,
      "outputs": [
        {
          "output_type": "execute_result",
          "data": {
            "text/plain": [
              "Text(0.5, 1.0, 'Histogram of home goals scored')"
            ]
          },
          "metadata": {
            "tags": []
          },
          "execution_count": 35
        },
        {
          "output_type": "display_data",
          "data": {
            "image/png": "[encoded data removed]",
            "text/plain": [
              "<Figure size 432x288 with 1 Axes>"
            ]
          },
          "metadata": {
            "tags": [],
            "needs_background": "light"
          }
        }
      ]
    },
    {
      "cell_type": "code",
      "metadata": {
        "colab": {
          "base_uri": "https://localhost:8080/",
          "height": 316
        },
        "id": "Th7_soJdXGdV",
        "outputId": "8e2c27e0-147a-41d0-f80e-0050eb3659f0"
      },
      "source": [
        "#histogram of away scores\n",
        "\n",
        "plt.hist(combined_df['awayscore'], bins= [0,2,4,6,8,10,12], rwidth = 2)\n",
        "plt.xlabel('Away goals scored',fontsize = 12)\n",
        "plt.ylabel('count', fontsize = 12)\n",
        "plt.title('Histogram of away goals scored' , fontsize=14)\n"
      ],
      "execution_count": null,
      "outputs": [
        {
          "output_type": "execute_result",
          "data": {
            "text/plain": [
              "Text(0.5, 1.0, 'Histogram of away goals scored')"
            ]
          },
          "metadata": {
            "tags": []
          },
          "execution_count": 36
        },
        {
          "output_type": "display_data",
          "data": {
            "image/png": "[encoded data removed]",
            "text/plain": [
              "<Figure size 432x288 with 1 Axes>"
            ]
          },
          "metadata": {
            "tags": [],
            "needs_background": "light"
          }
        }
      ]
    },
    {
      "cell_type": "code",
      "metadata": {
        "id": "l8vdckF_4E7l",
        "colab": {
          "base_uri": "https://localhost:8080/",
          "height": 404
        },
        "outputId": "04463325-ed90-488d-fa6a-406932e57a77"
      },
      "source": [
        "# Frequency of the top 10 tournaments played \n",
        "\n",
        "plt.figure(figsize = [8,6])\n",
        "top_10 = combined_df['tournament'].value_counts().sort_values(ascending=False).head(10)\n",
        "top_10.sort_values(ascending=True).plot(kind='barh')\n",
        "plt.xlabel('Number of Matches')\n",
        "plt.ylabel('Competition')\n",
        "plt.title('Number of Matches played by Tournament Type')\n",
        "plt.show()"
      ],
      "execution_count": null,
      "outputs": [
        {
          "output_type": "display_data",
          "data": {
            "image/png": "[encoded data removed]",
            "text/plain": [
              "<Figure size 576x432 with 1 Axes>"
            ]
          },
          "metadata": {
            "tags": [],
            "needs_background": "light"
          }
        }
      ]
    },
    {
      "cell_type": "code",
      "metadata": {
        "colab": {
          "base_uri": "https://localhost:8080/",
          "height": 316
        },
        "id": "Kd6e7qfPXGgH",
        "outputId": "3a1f218c-92b9-47e1-971a-96f968173c89"
      },
      "source": [
        "#histogram of home ranks \n",
        "\n",
        "plt.hist(combined_df['homerank'], bins= 5, rwidth = 2)\n",
        "plt.xlabel('ranks of home teams',fontsize = 12)\n",
        "plt.ylabel('count', fontsize = 12)\n",
        "plt.title('Histogram of home teams ranked' , fontsize=14)\n"
      ],
      "execution_count": null,
      "outputs": [
        {
          "output_type": "execute_result",
          "data": {
            "text/plain": [
              "Text(0.5, 1.0, 'Histogram of home teams ranked')"
            ]
          },
          "metadata": {
            "tags": []
          },
          "execution_count": 38
        },
        {
          "output_type": "display_data",
          "data": {
            "image/png": "[encoded data removed]",
            "text/plain": [
              "<Figure size 432x288 with 1 Axes>"
            ]
          },
          "metadata": {
            "tags": [],
            "needs_background": "light"
          }
        }
      ]
    },
    {
      "cell_type": "code",
      "metadata": {
        "id": "I6zT9Z-EXGji",
        "colab": {
          "base_uri": "https://localhost:8080/",
          "height": 316
        },
        "outputId": "cd4dee8a-ecbd-4e18-ab74-6ee12ab43ca4"
      },
      "source": [
        "#histogram of away ranks \n",
        "\n",
        "plt.hist(combined_df['awayrank'], bins= 5 , rwidth = 2)\n",
        "plt.xlabel('ranks of away teams',fontsize = 12)\n",
        "plt.ylabel('count', fontsize = 12)\n",
        "plt.title('Histogram of away teams ranked' , fontsize=14)\n"
      ],
      "execution_count": null,
      "outputs": [
        {
          "output_type": "execute_result",
          "data": {
            "text/plain": [
              "Text(0.5, 1.0, 'Histogram of away teams ranked')"
            ]
          },
          "metadata": {
            "tags": []
          },
          "execution_count": 39
        },
        {
          "output_type": "display_data",
          "data": {
            "image/png": "[encoded data removed]",
            "text/plain": [
              "<Figure size 432x288 with 1 Axes>"
            ]
          },
          "metadata": {
            "tags": [],
            "needs_background": "light"
          }
        }
      ]
    },
    {
      "cell_type": "code",
      "metadata": {
        "id": "DgFz91yvXGlx",
        "colab": {
          "base_uri": "https://localhost:8080/"
        },
        "outputId": "7c7c5878-2206-45e4-a6cb-ef4724719a90"
      },
      "source": [
        "#getting the measures of central dispersion \n",
        "# Checking on coefficent of variance, skewness and kurtosis on home score variable \n",
        "\n",
        "print('The skewness is:', combined_df['homescore'].skew())\n",
        "print('The kurtosis is:', combined_df['homescore'].kurt())\n",
        "print('The coefficient of variation is:', combined_df['homescore'].std()/combined_df['homescore'].mean())\n",
        "print('Home Team Score Quantiles:', combined_df[\"homescore\"].quantile([0.25, 0.5, 0.75]))"
      ],
      "execution_count": null,
      "outputs": [
        {
          "output_type": "stream",
          "text": [
            "The skewness is: 2.3241541210487693\n",
            "The kurtosis is: 15.241826227675222\n",
            "The coefficient of variation is: 1.0076485441043306\n",
            "Home Team Score Quantiles: 0.25    0.0\n",
            "0.50    1.0\n",
            "0.75    2.0\n",
            "Name: homescore, dtype: float64\n"
          ],
          "name": "stdout"
        }
      ]
    },
    {
      "cell_type": "code",
      "metadata": {
        "id": "1RQCuSAhXGs6",
        "colab": {
          "base_uri": "https://localhost:8080/"
        },
        "outputId": "02a9b000-0d65-4a6a-dcfa-11e2b25ed4ca"
      },
      "source": [
        "#getting the measures of central dispersion \n",
        "# Checking on coefficent of variance, skewness and kurtosis on away score variable \n",
        "\n",
        "print('The skewness is:', combined_df['awayscore'].skew())\n",
        "print('The kurtosis is:', combined_df['awayscore'].kurt())\n",
        "print('The coefficient of variation is:', combined_df['awayscore'].std()/combined_df['awayscore'].mean())\n",
        "print('Away Team Score Quantiles:', combined_df[\"awayscore\"].quantile([0.25, 0.5, 0.75]))\n"
      ],
      "execution_count": null,
      "outputs": [
        {
          "output_type": "stream",
          "text": [
            "The skewness is: 1.932314870735902\n",
            "The kurtosis is: 7.193821602483314\n",
            "The coefficient of variation is: 1.1672940558701566\n",
            "Away Team Score Quantiles: 0.25    0.0\n",
            "0.50    1.0\n",
            "0.75    2.0\n",
            "Name: awayscore, dtype: float64\n"
          ],
          "name": "stdout"
        }
      ]
    },
    {
      "cell_type": "code",
      "metadata": {
        "colab": {
          "base_uri": "https://localhost:8080/"
        },
        "id": "C1GHeMPMi90A",
        "outputId": "72413b6e-5b34-4107-c978-c9b058ff1ff8"
      },
      "source": [
        "#getting the measures of central tendancy of home score \n",
        "\n",
        "print('Home Team Score Mean:',combined_df[\"homescore\"].mean())\n",
        "print('Home Team Score Mode:',combined_df[\"homescore\"].mode())\n",
        "print('Home Team Score Median:',combined_df[\"homescore\"].median())\n"
      ],
      "execution_count": null,
      "outputs": [
        {
          "output_type": "stream",
          "text": [
            "Home Team Score Mean: 1.6011275546159267\n",
            "Home Team Score Mode: 0    1\n",
            "dtype: int64\n",
            "Home Team Score Median: 1.0\n"
          ],
          "name": "stdout"
        }
      ]
    },
    {
      "cell_type": "code",
      "metadata": {
        "colab": {
          "base_uri": "https://localhost:8080/"
        },
        "id": "BtTiHbVGlONJ",
        "outputId": "242cfee9-e258-4768-eada-f74771d2045d"
      },
      "source": [
        "#getting the measures of central tendancy of away score \n",
        "\n",
        "print('Away Team Score Mean:',combined_df[\"awayscore\"].mean())\n",
        "print('Away Team Score Mode:',combined_df[\"awayscore\"].mode())\n",
        "print('Away Team Score Median:',combined_df[\"awayscore\"].median())\n"
      ],
      "execution_count": null,
      "outputs": [
        {
          "output_type": "stream",
          "text": [
            "Away Team Score Mean: 1.06471693680996\n",
            "Away Team Score Mode: 0    0\n",
            "dtype: int64\n",
            "Away Team Score Median: 1.0\n"
          ],
          "name": "stdout"
        }
      ]
    },
    {
      "cell_type": "markdown",
      "metadata": {
        "id": "jAayFTTDllxD"
      },
      "source": [
        "## b) Bivariate Analysis "
      ]
    },
    {
      "cell_type": "code",
      "metadata": {
        "colab": {
          "base_uri": "https://localhost:8080/"
        },
        "id": "_DObthO_l1-u",
        "outputId": "3703626e-cc5e-4051-cb40-e5228205ecad"
      },
      "source": [
        "# calculating correlation coefficients between differnt variables.\n",
        "a = combined_df[\"awayscore\"].corr(combined_df[\"awayrank\"]) \n",
        "print(a)\n",
        "b = combined_df[\"homescore\"].corr(combined_df[\"homerank\"]) \n",
        "print(b)\n",
        "\n",
        "# there is a very low negative correlation for both awayscore and awayrank and homescore and homerank "
      ],
      "execution_count": null,
      "outputs": [
        {
          "output_type": "stream",
          "text": [
            "-0.18102098619245968\n",
            "-0.1352967739085968\n"
          ],
          "name": "stdout"
        }
      ]
    },
    {
      "cell_type": "code",
      "metadata": {
        "colab": {
          "base_uri": "https://localhost:8080/",
          "height": 269
        },
        "id": "Jrrf-FyqmhNO",
        "outputId": "7b6dc560-2bec-4b69-edcb-0c2522184c01"
      },
      "source": [
        "# Correlation Heatmap\n",
        "\n",
        "plt.figure(figsize=(7,4)) \n",
        "sns.heatmap(combined_df.corr(),annot=True,cmap='cubehelix_r') \n",
        "plt.show()"
      ],
      "execution_count": null,
      "outputs": [
        {
          "output_type": "display_data",
          "data": {
            "image/png": "[encoded data removed]",
            "text/plain": [
              "<Figure size 504x288 with 2 Axes>"
            ]
          },
          "metadata": {
            "tags": [],
            "needs_background": "light"
          }
        }
      ]
    },
    {
      "cell_type": "code",
      "metadata": {
        "id": "Lbh4zkl1l2L5",
        "colab": {
          "base_uri": "https://localhost:8080/",
          "height": 744
        },
        "outputId": "1bab357d-8b12-429e-84de-e5025b58ab7a"
      },
      "source": [
        "# pairplot of variables in the combined dataset\n",
        "\n",
        "sns.pairplot(combined_df[['homescore', 'awayscore', 'homerank','awayrank']])\n",
        "\n",
        "# from the scatter plots visualizations there is no correlation between the variables.\n"
      ],
      "execution_count": null,
      "outputs": [
        {
          "output_type": "execute_result",
          "data": {
            "text/plain": [
              "<seaborn.axisgrid.PairGrid at 0x7ff0c02c0110>"
            ]
          },
          "metadata": {
            "tags": []
          },
          "execution_count": 46
        },
        {
          "output_type": "display_data",
          "data": {
            "image/png": "[encoded data removed]",
            "text/plain": [
              "<Figure size 720x720 with 20 Axes>"
            ]
          },
          "metadata": {
            "tags": [],
            "needs_background": "light"
          }
        }
      ]
    },
    {
      "cell_type": "markdown",
      "metadata": {
        "id": "V-M3JYWQwIXl"
      },
      "source": [
        "# 5.Implementing the Solution "
      ]
    },
    {
      "cell_type": "markdown",
      "metadata": {
        "id": "heYUIVoOoyEd"
      },
      "source": [
        "It is necessary to implement the solution of descriptive analysis by modelling using predictive analysis.\n",
        "We are therefore going to create models using two approcahes the polynomial regression approach and the logistic regression approach."
      ]
    },
    {
      "cell_type": "markdown",
      "metadata": {
        "id": "_new39mGtOnR"
      },
      "source": [
        "# 5a).Polynomial Regression "
      ]
    },
    {
      "cell_type": "markdown",
      "metadata": {
        "id": "ISug1TYnndfy"
      },
      "source": [
        "Polynomial regression is used when a simople linear regression model does not fit the data well. \n",
        "From the analysis question above we are going to create two modes that predict the home goals and away goals given: the rank of the away team , the rank of home team and the tournament type."
      ]
    },
    {
      "cell_type": "markdown",
      "metadata": {
        "id": "16YmuuWTuZN7"
      },
      "source": [
        "## Feature Engineering "
      ]
    },
    {
      "cell_type": "markdown",
      "metadata": {
        "id": "b6WWnYxrukMn"
      },
      "source": [
        "Feature engineering transfroms raw data inputs into format the algorithm can understand "
      ]
    },
    {
      "cell_type": "code",
      "metadata": {
        "colab": {
          "base_uri": "https://localhost:8080/"
        },
        "id": "N7yiHpD-uiST",
        "outputId": "23c0a477-ef05-4f73-fc3e-5a2e792bd65a"
      },
      "source": [
        "# getting unique values in the tournament column \n",
        "print(combined_df['tournament'].nunique())\n",
        "\n",
        "# check for the unique values\n",
        "combined_df['tournament'].unique() "
      ],
      "execution_count": null,
      "outputs": [
        {
          "output_type": "stream",
          "text": [
            "65\n"
          ],
          "name": "stdout"
        },
        {
          "output_type": "execute_result",
          "data": {
            "text/plain": [
              "array(['FIFA World Cup qualification', 'Friendly',\n",
              "       'African Cup of Nations qualification', 'Amílcar Cabral Cup',\n",
              "       'United Arab Emirates Friendship Tournament',\n",
              "       'Malta International Tournament',\n",
              "       'CFU Caribbean Cup qualification', 'African Cup of Nations',\n",
              "       'CFU Caribbean Cup', 'UEFA Euro qualification', 'Kirin Cup',\n",
              "       'FIFA World Cup', 'Oceania Nations Cup qualification',\n",
              "       'Baltic Cup', 'Gulf Cup', 'Simba Tournament', 'CECAFA Cup',\n",
              "       'Dynasty Cup', \"King's Cup\", 'SAFF Cup', 'Copa Paz del Chaco',\n",
              "       'Korea Cup', 'USA Cup', 'Copa América', 'Merdeka Tournament',\n",
              "       'South Pacific Games', 'UNCAF Cup', 'Oceania Nations Cup',\n",
              "       'Windward Islands Tournament', 'Gold Cup',\n",
              "       'AFC Asian Cup qualification', 'Lunar New Year Cup',\n",
              "       'AFF Championship', 'AFC Asian Cup', 'King Hassan II Tournament',\n",
              "       'Cyprus International Tournament', 'Dunhill Cup', 'Nehru Cup',\n",
              "       'COSAFA Cup', 'Tournoi de France', 'Confederations Cup',\n",
              "       'UAFA Cup', 'Gold Cup qualification', 'UNIFFAC Cup',\n",
              "       'Nordic Championship', 'WAFF Championship', 'UEFA Euro',\n",
              "       'Millennium Cup', \"Prime Minister's Cup\", 'SKN Football Festival',\n",
              "       'EAFF Championship', 'AFC Challenge Cup', 'Copa del Pacífico',\n",
              "       'UAFA Cup qualification', 'AFC Challenge Cup qualification',\n",
              "       'African Nations Championship', 'VFF Cup', 'Dragon Cup',\n",
              "       'Nile Basin Tournament', 'Nations Cup', 'Pacific Games',\n",
              "       'ABCS Tournament', 'OSN Cup', 'Copa América qualification',\n",
              "       'Intercontinental Cup'], dtype=object)"
            ]
          },
          "metadata": {
            "tags": []
          },
          "execution_count": 47
        }
      ]
    },
    {
      "cell_type": "code",
      "metadata": {
        "id": "Y40uw_PPx4Te"
      },
      "source": [
        "#for tournamnet column we need three entries that is 'world cup', 'friendly' and 'other' out of the 101 unique values \n",
        "\n",
        "# repalce the Fifa world cup and fifa world cup qualification with world cup \n",
        "combined_df[\"tournament\"].replace({\"FIFA World Cup\": \"WorldCup\", \"FIFA World Cup qualification\": \"WorldCup\"}, inplace=True)\n",
        "\n",
        "# replace United arab emirates friendship tournament with friendly \n",
        "combined_df[\"tournament\"].replace({\"United Arab Emirates Friendship Tournament\": \"Friendly\"}, inplace= True)\n",
        "\n",
        "# replace enteries that are not world cup or friendly with other \n",
        "combined_df.replace(['British Championship', 'Copa Lipton', 'Copa Newton',\n",
        "       'Copa Premio Honor Argentino', 'Copa Premio Honor Uruguayo',\n",
        "       'Copa Roca', 'Copa América', 'Copa Chevallier Boutell',\n",
        "       'Nordic Championship', 'International Cup', 'Baltic Cup',\n",
        "       'Balkan Cup', 'Copa Rio Branco', 'CCCF Championship',\n",
        "       'NAFU Championship', 'Copa Oswaldo Cruz',\n",
        "       'Pan American Championship', 'Copa del Pacífico',\n",
        "       \"Copa Bernardo O'Higgins\", 'AFC Asian Cup qualification',\n",
        "       'Atlantic Cup', 'AFC Asian Cup', 'African Cup of Nations',\n",
        "       'Copa Paz del Chaco', 'Merdeka Tournament',\n",
        "       'UEFA Euro qualification', 'UEFA Euro',\n",
        "       'Windward Islands Tournament',\n",
        "       'African Cup of Nations qualification', 'Vietnam Independence Cup',\n",
        "       'Copa Carlos Dittborn', 'CONCACAF Championship',\n",
        "       'Copa Juan Pinto Durán', 'UAFA Cup', 'South Pacific Games',\n",
        "       'CONCACAF Championship qualification', 'Copa Artigas', 'GaNEFo',\n",
        "       \"King's Cup\", 'Gulf Cup', 'Indonesia Tournament', 'Korea Cup',\n",
        "       'Brazil Independence Cup', 'Copa Ramón Castilla',\n",
        "       'Oceania Nations Cup', 'CECAFA Cup', 'Copa Félix Bogado',\n",
        "       'Kirin Cup', 'CFU Caribbean Cup qualification',\n",
        "       'CFU Caribbean Cup', 'Amílcar Cabral Cup', 'Mundialito',\n",
        "       'West African Cup', 'Nehru Cup', 'Merlion Cup', 'UDEAC Cup',\n",
        "       'Rous Cup', 'Tournoi de France', 'Malta International Tournament',\n",
        "       'Lunar New Year Cup', 'Dynasty Cup', 'UNCAF Cup', 'Gold Cup',\n",
        "       'USA Cup', 'Jordan International Tournament', 'Confederations Cup',\n",
        "       'Island Games','Oceania Nations Cup qualification', 'Simba Tournament',\n",
        "       'SAFF Cup', 'AFF Championship', 'King Hassan II Tournament',\n",
        "       'Cyprus International Tournament', 'Dunhill Cup', 'COSAFA Cup',\n",
        "       'Gold Cup qualification', 'SKN Football Festival', 'UNIFFAC Cup',\n",
        "       'WAFF Championship', 'Millennium Cup', \"Prime Minister's Cup\",\n",
        "       'EAFF Championship', 'AFC Challenge Cup', 'FIFI Wild Cup',\n",
        "       'ELF Cup', 'UAFA Cup qualification',\n",
        "       'AFC Challenge Cup qualification', 'African Nations Championship',\n",
        "       'VFF Cup', 'Dragon Cup', 'ABCS Tournament',\n",
        "       'Nile Basin Tournament', 'Nations Cup', 'Pacific Games', 'OSN Cup',\n",
        "       'Copa América qualification', 'Intercontinental Cup'],'Other', inplace=True)\n",
        "\n"
      ],
      "execution_count": null,
      "outputs": []
    },
    {
      "cell_type": "code",
      "metadata": {
        "colab": {
          "base_uri": "https://localhost:8080/"
        },
        "id": "fmiGr5Vsx4kG",
        "outputId": "21617243-62c8-43be-ac33-02baec2c5d25"
      },
      "source": [
        "# confirming the replacements have been done correctly \n",
        "combined_df['tournament'].unique() "
      ],
      "execution_count": null,
      "outputs": [
        {
          "output_type": "execute_result",
          "data": {
            "text/plain": [
              "array(['WorldCup', 'Friendly', 'Other'], dtype=object)"
            ]
          },
          "metadata": {
            "tags": []
          },
          "execution_count": 49
        }
      ]
    },
    {
      "cell_type": "code",
      "metadata": {
        "id": "dEpOMqWAMJGp"
      },
      "source": [
        "#label encoding\n",
        "from sklearn.preprocessing import LabelEncoder\n",
        "# instantiate labelencoder object\n",
        "le = LabelEncoder()\n",
        "\n",
        "# apply le on categorical feature columns\n",
        "#tournament Other = 1, Friendly = 0, WorldCup = 2\n",
        "combined_df['tournament'] = le.fit_transform(combined_df['tournament'])\n",
        "\n"
      ],
      "execution_count": null,
      "outputs": []
    },
    {
      "cell_type": "markdown",
      "metadata": {
        "id": "verk4_eX-B-W"
      },
      "source": [
        "## Detecting Multicolinearity "
      ]
    },
    {
      "cell_type": "code",
      "metadata": {
        "colab": {
          "base_uri": "https://localhost:8080/",
          "height": 141
        },
        "id": "irLGqEv55piV",
        "outputId": "2659f0d0-f2ee-49fc-a5e6-639801851211"
      },
      "source": [
        "# we want to focus on our independent variables only.\n",
        "independent_only = combined_df.drop(columns=['awayteam','hometeam','homescore','awayscore','year'])\n",
        "\n",
        "# Let's display the correlations between the variables\n",
        "correlations = independent_only.corr()\n",
        "correlations\n",
        "\n",
        "#the table shows how each variable relates to another "
      ],
      "execution_count": null,
      "outputs": [
        {
          "output_type": "execute_result",
          "data": {
            "text/html": [
              "<div>\n",
              "<style scoped>\n",
              "    .dataframe tbody tr th:only-of-type {\n",
              "        vertical-align: middle;\n",
              "    }\n",
              "\n",
              "    .dataframe tbody tr th {\n",
              "        vertical-align: top;\n",
              "    }\n",
              "\n",
              "    .dataframe thead th {\n",
              "        text-align: right;\n",
              "    }\n",
              "</style>\n",
              "<table border=\"1\" class=\"dataframe\">\n",
              "  <thead>\n",
              "    <tr style=\"text-align: right;\">\n",
              "      <th></th>\n",
              "      <th>tournament</th>\n",
              "      <th>homerank</th>\n",
              "      <th>awayrank</th>\n",
              "    </tr>\n",
              "  </thead>\n",
              "  <tbody>\n",
              "    <tr>\n",
              "      <th>tournament</th>\n",
              "      <td>1.000000</td>\n",
              "      <td>0.031655</td>\n",
              "      <td>0.024722</td>\n",
              "    </tr>\n",
              "    <tr>\n",
              "      <th>homerank</th>\n",
              "      <td>0.031655</td>\n",
              "      <td>1.000000</td>\n",
              "      <td>0.470225</td>\n",
              "    </tr>\n",
              "    <tr>\n",
              "      <th>awayrank</th>\n",
              "      <td>0.024722</td>\n",
              "      <td>0.470225</td>\n",
              "      <td>1.000000</td>\n",
              "    </tr>\n",
              "  </tbody>\n",
              "</table>\n",
              "</div>"
            ],
            "text/plain": [
              "            tournament  homerank  awayrank\n",
              "tournament    1.000000  0.031655  0.024722\n",
              "homerank      0.031655  1.000000  0.470225\n",
              "awayrank      0.024722  0.470225  1.000000"
            ]
          },
          "metadata": {
            "tags": []
          },
          "execution_count": 51
        }
      ]
    },
    {
      "cell_type": "code",
      "metadata": {
        "colab": {
          "base_uri": "https://localhost:8080/",
          "height": 141
        },
        "id": "piLSsEdb9GMk",
        "outputId": "987ea15f-c15a-4c82-e082-9380c762a429"
      },
      "source": [
        "# we then compute the variance infalation factor (VIF). \n",
        "# A measure of how much the variance of regression coefficient in your model increases if your independent variables are correlated.\n",
        "# creating an inverse matrix of the correlation table above \n",
        "\n",
        "pd.DataFrame(np.linalg.inv(correlations.values), index = correlations.index, columns=correlations.columns)\n"
      ],
      "execution_count": null,
      "outputs": [
        {
          "output_type": "execute_result",
          "data": {
            "text/html": [
              "<div>\n",
              "<style scoped>\n",
              "    .dataframe tbody tr th:only-of-type {\n",
              "        vertical-align: middle;\n",
              "    }\n",
              "\n",
              "    .dataframe tbody tr th {\n",
              "        vertical-align: top;\n",
              "    }\n",
              "\n",
              "    .dataframe thead th {\n",
              "        text-align: right;\n",
              "    }\n",
              "</style>\n",
              "<table border=\"1\" class=\"dataframe\">\n",
              "  <thead>\n",
              "    <tr style=\"text-align: right;\">\n",
              "      <th></th>\n",
              "      <th>tournament</th>\n",
              "      <th>homerank</th>\n",
              "      <th>awayrank</th>\n",
              "    </tr>\n",
              "  </thead>\n",
              "  <tbody>\n",
              "    <tr>\n",
              "      <th>tournament</th>\n",
              "      <td>1.001128</td>\n",
              "      <td>-0.025746</td>\n",
              "      <td>-0.012643</td>\n",
              "    </tr>\n",
              "    <tr>\n",
              "      <th>homerank</th>\n",
              "      <td>-0.025746</td>\n",
              "      <td>1.284543</td>\n",
              "      <td>-0.603387</td>\n",
              "    </tr>\n",
              "    <tr>\n",
              "      <th>awayrank</th>\n",
              "      <td>-0.012643</td>\n",
              "      <td>-0.603387</td>\n",
              "      <td>1.284040</td>\n",
              "    </tr>\n",
              "  </tbody>\n",
              "</table>\n",
              "</div>"
            ],
            "text/plain": [
              "            tournament  homerank  awayrank\n",
              "tournament    1.001128 -0.025746 -0.012643\n",
              "homerank     -0.025746  1.284543 -0.603387\n",
              "awayrank     -0.012643 -0.603387  1.284040"
            ]
          },
          "metadata": {
            "tags": []
          },
          "execution_count": 52
        }
      ]
    },
    {
      "cell_type": "markdown",
      "metadata": {
        "id": "vsE9zYwAIflY"
      },
      "source": [
        "If no independent variables are correlated, you'll expect the VIF for each to be 1.\n",
        "The away rank, home rank and tournament variables are not correlated"
      ]
    },
    {
      "cell_type": "markdown",
      "metadata": {
        "id": "skxxrIZMKlRk"
      },
      "source": [
        "# Polynomial Regression Model 1 "
      ]
    },
    {
      "cell_type": "markdown",
      "metadata": {
        "id": "rTWJS2xPtB3_"
      },
      "source": [
        "Predict how many goals the home team scored based on team's home rank, away rank and tournament "
      ]
    },
    {
      "cell_type": "code",
      "metadata": {
        "colab": {
          "base_uri": "https://localhost:8080/"
        },
        "id": "QRdF_upsNPgH",
        "outputId": "b7fbd5a0-c940-4e04-8ca3-6f0175f06279"
      },
      "source": [
        "#separating the data to features and label (model 1: Home scores)\n",
        "\n",
        "X = (combined_df[['homerank','awayrank','tournament']]).values\n",
        "y = combined_df['homescore'].values\n",
        "\n",
        "# Splitting the data and training using 80% of the data \n",
        "X_train, X_test, y_train, y_test = train_test_split(X, y, test_size=0.2, random_state=0)\n",
        "\n",
        "#creating the model\n",
        "poly_reg = PolynomialFeatures(degree = 4) \n",
        "X_poly = poly_reg.fit_transform(X)\n",
        "\n",
        "pol_reg = LinearRegression()\n",
        "pol_reg.fit(X_poly, y)\n",
        "\n",
        "poly_pred = pol_reg.predict(poly_reg.fit_transform(X_test))\n",
        "print('Polynomial prediction: %d', poly_pred)"
      ],
      "execution_count": null,
      "outputs": [
        {
          "output_type": "stream",
          "text": [
            "Polynomial prediction: %d [1.34248663 2.53511934 2.04069536 ... 0.9752255  1.3627852  0.98104095]\n"
          ],
          "name": "stdout"
        }
      ]
    },
    {
      "cell_type": "markdown",
      "metadata": {
        "id": "Axxu0S8pfrCZ"
      },
      "source": [
        "for us to choose an optimal model the model needs to have a low bias and a low varinace.That is to say the model should not capture too many data points and at the same time its should not capture very few data points.\n",
        "\n",
        "4 degrees of freedom have been used to get the most optimal model. "
      ]
    },
    {
      "cell_type": "code",
      "metadata": {
        "colab": {
          "base_uri": "https://localhost:8080/"
        },
        "id": "yLW84_tewKuy",
        "outputId": "a2773b05-895a-4653-8b77-a5af6249811e"
      },
      "source": [
        "#Evaluating model and calculating the RMSE \n",
        "from sklearn import metrics \n",
        "\n",
        "print('Mean Absolute Error:', metrics.mean_absolute_error(y_test, poly_pred))  \n",
        "print('Mean Squared Error:', metrics.mean_squared_error(y_test, poly_pred))  \n",
        "print('Root Mean Squared Error:', np.sqrt(metrics.mean_squared_error(y_test, poly_pred)))"
      ],
      "execution_count": null,
      "outputs": [
        {
          "output_type": "stream",
          "text": [
            "Mean Absolute Error: 1.0141824533758996\n",
            "Mean Squared Error: 1.987877952083519\n",
            "Root Mean Squared Error: 1.4099212574053628\n"
          ],
          "name": "stdout"
        }
      ]
    },
    {
      "cell_type": "markdown",
      "metadata": {
        "id": "_T7sb4MR7L0V"
      },
      "source": [
        "To measure an accuracy of the model The RMSE should be 10% of the mean. The Rmse however here is 1.4099 which is very high. This is beacause of the otliers in the home scores and away scores columns which were not removed. \n",
        "\n",
        "Furthermore the high RMSE indicates that the model is not optimal. "
      ]
    },
    {
      "cell_type": "markdown",
      "metadata": {
        "id": "31fmkYG8wuY3"
      },
      "source": [
        "## Cross Validating Model 1"
      ]
    },
    {
      "cell_type": "code",
      "metadata": {
        "colab": {
          "base_uri": "https://localhost:8080/"
        },
        "id": "RFv0XPHwwKx7",
        "outputId": "1469fe4e-b5f5-474c-9aa2-fda9aafefcba"
      },
      "source": [
        "from sklearn.model_selection import KFold\n",
        "\n",
        "# We will use the same 3 independent variables for this\n",
        "X = combined_df[['homerank', 'awayrank', 'tournament']].values\n",
        "y = combined_df['homescore'].values\n",
        "\n",
        "folds = KFold(n_splits=5)\n",
        "\n",
        "# note that if you have a KFold object, you can figure out how many folds you set up \n",
        "# for it using get_n_splits\n",
        "print('we are using ' +str(folds.get_n_splits(X)) + ' folds')\n",
        "\n",
        "# We now create and assess 5 models based on the folds we created.\n",
        "RMSES = [] # We will use this array to keep track of the RSME of each model\n",
        "count = 1 # This will just help \n",
        "for train_index, test_index in folds.split(X):\n",
        "  print('\\nTraining model ' + str(count))\n",
        "  \n",
        "  # set up the train and test based on the split determined by KFold\n",
        "  # With 5 folds, we will end up with 80% of our data in the training set, and 20% in the test set, just as above\n",
        "  X_train, X_test = X[train_index], X[test_index]\n",
        "  y_train, y_test = y[train_index], y[test_index]\n",
        "  \n",
        "  \n",
        "  # fit a model accordingly\n",
        "  poly_reg = PolynomialFeatures(degree = 4) \n",
        "  X_poly = poly_reg.fit_transform(X)\n",
        "\n",
        "  pol_reg = LinearRegression()\n",
        "  pol_reg.fit(X_poly, y)\n",
        "\n",
        "  # assess the accuraccy of the model\n",
        "  poly_pred = pol_reg.predict(poly_reg.fit_transform(X_test))\n",
        "\n",
        "  \n",
        "  rmse_value =  np.sqrt(metrics.mean_squared_error(y_test, poly_pred))\n",
        "  RMSES.append(rmse_value)\n",
        "  \n",
        "  print('Model ' + str(count) + ' Root Mean Squared Error:',rmse_value)\n",
        "  count = count + 1"
      ],
      "execution_count": null,
      "outputs": [
        {
          "output_type": "stream",
          "text": [
            "we are using 5 folds\n",
            "\n",
            "Training model 1\n",
            "Model 1 Root Mean Squared Error: 1.44566897691164\n",
            "\n",
            "Training model 2\n",
            "Model 2 Root Mean Squared Error: 1.5361116125706018\n",
            "\n",
            "Training model 3\n",
            "Model 3 Root Mean Squared Error: 1.3261986389533678\n",
            "\n",
            "Training model 4\n",
            "Model 4 Root Mean Squared Error: 1.3348746178461268\n",
            "\n",
            "Training model 5\n",
            "Model 5 Root Mean Squared Error: 1.3370740781783634\n"
          ],
          "name": "stdout"
        }
      ]
    },
    {
      "cell_type": "markdown",
      "metadata": {
        "id": "xWnPHiHXeJMM"
      },
      "source": [
        "The RMSE is relative to the dependent variable. Even though the models are not optimal from the evidence of high Root mean squared error , From cross validation the third model is most suitable since it has the least RMSE. "
      ]
    },
    {
      "cell_type": "markdown",
      "metadata": {
        "id": "UZ_gd_dRCzLK"
      },
      "source": [
        "## Assessing the Heteroskedasticity"
      ]
    },
    {
      "cell_type": "code",
      "metadata": {
        "colab": {
          "base_uri": "https://localhost:8080/"
        },
        "id": "MYLMoIVXNPq8",
        "outputId": "c38d3dcb-5931-423b-e3c8-f2523ff06531"
      },
      "source": [
        "#we create a residual by subtracting the test value from the predicted value of each row in the dataset\n",
        "residuals = np.subtract(poly_pred, y_test)\n",
        "\n",
        "# Let's describe our residual:\n",
        "pd.DataFrame(residuals).describe()\n",
        "\n",
        "residuals.mean()"
      ],
      "execution_count": null,
      "outputs": [
        {
          "output_type": "execute_result",
          "data": {
            "text/plain": [
              "0.11254678750180278"
            ]
          },
          "metadata": {
            "tags": []
          },
          "execution_count": 56
        }
      ]
    },
    {
      "cell_type": "markdown",
      "metadata": {
        "id": "C1sNg2wjgXgt"
      },
      "source": [
        "The residual mean is close to 0, indicating that we tend to be fairly correct, although slightly over estimating chances by, on average, 0.11%\n",
        "\n",
        "a heteroskedasticity test on our residual plot helps us determine if the variability of a given dependent variable unequal.\n",
        "For this we will use bartlett's test. The test establishes as a null hypothesis that the variance is equal for all our datapoints,and the alternative hypothesis that the variance is different for at least one pair of datapoints.\n",
        "\n"
      ]
    },
    {
      "cell_type": "code",
      "metadata": {
        "colab": {
          "base_uri": "https://localhost:8080/"
        },
        "id": "_NN23ea4RAOx",
        "outputId": "d4e841c2-2f02-48f0-e602-1692f2347968"
      },
      "source": [
        "import scipy as sp\n",
        "\n",
        "test_result, p_value = sp.stats.bartlett(poly_pred, residuals)\n",
        "print(test_result)\n",
        "\n",
        "# To interpret the results we must also compute a critical value of the chi squared distribution\n",
        "degree_of_freedom = len(poly_pred)-1\n",
        "probability = 1 - p_value\n",
        "\n",
        "critical_value = sp.stats.chi2.ppf(probability, degree_of_freedom)\n",
        "print(critical_value)\n",
        "\n",
        "# If the test_result is greater than the critical value, then we reject our null\n",
        "# hypothesis. This would mean that there are patterns to the variance of the data\n",
        "\n",
        "# Otherwise, we can identify no patterns, and we accept the null hypothesis that \n",
        "# the variance is homogeneous across our data\n",
        "\n",
        "if (test_result > critical_value):\n",
        "  print('the variances are unequal')\n",
        "else:\n",
        "  print('the variances are equal')\n"
      ],
      "execution_count": null,
      "outputs": [
        {
          "output_type": "stream",
          "text": [
            "697.4469684933208\n",
            "inf\n",
            "the variances are equal\n"
          ],
          "name": "stdout"
        }
      ]
    },
    {
      "cell_type": "markdown",
      "metadata": {
        "id": "R_LPzcgZl3AN"
      },
      "source": [
        "the variances are equal."
      ]
    },
    {
      "cell_type": "markdown",
      "metadata": {
        "id": "fQrqSpvR_K0q"
      },
      "source": [
        "# Polynomial Regression Model 2"
      ]
    },
    {
      "cell_type": "markdown",
      "metadata": {
        "id": "JLW_-PgsjzUT"
      },
      "source": [
        "Predict how many goals the away team scored based on team's  home and away rank and tournament type"
      ]
    },
    {
      "cell_type": "code",
      "metadata": {
        "colab": {
          "base_uri": "https://localhost:8080/"
        },
        "id": "Rzgm91Ru3EHW",
        "outputId": "b5e642bc-14d5-4f00-8f84-8f47799f61b7"
      },
      "source": [
        "#separating the data to features and label (model 2: away scores)\n",
        "\n",
        "X = (combined_df[['homerank','awayrank','tournament']]).values\n",
        "y = combined_df['awayscore'].values\n",
        "\n",
        "# Splitting the data\n",
        "X_train, X_test, y_train, y_test = train_test_split(X, y, test_size=0.2, random_state=0)\n",
        "\n",
        "#creating the model\n",
        "poly_reg = PolynomialFeatures(degree = 3) \n",
        "X_poly = poly_reg.fit_transform(X)\n",
        "\n",
        "pol_reg = LinearRegression()\n",
        "pol_reg.fit(X_poly, y)\n",
        "\n",
        "poly_pred = pol_reg.predict(poly_reg.fit_transform(X_test))\n",
        "print('Polynomial prediction: %d', poly_pred)"
      ],
      "execution_count": null,
      "outputs": [
        {
          "output_type": "stream",
          "text": [
            "Polynomial prediction: %d [1.07590353 0.42428961 0.66100681 ... 1.55812278 0.92377961 1.41679116]\n"
          ],
          "name": "stdout"
        }
      ]
    },
    {
      "cell_type": "markdown",
      "metadata": {
        "id": "aGPK3uTosh6T"
      },
      "source": [
        "for us to choose an optimal model the model needs to have a low bias and a low varinace.That is to say the model should not capture too many data points and at the same time its should not capture very few data points.\n",
        "\n",
        "3 degrees of freedom have been used to get the most optimal model.\n",
        "\n"
      ]
    },
    {
      "cell_type": "code",
      "metadata": {
        "colab": {
          "base_uri": "https://localhost:8080/"
        },
        "id": "f7UWRYkw3ERN",
        "outputId": "eb7a38b3-6106-4d7c-8a84-648babfec892"
      },
      "source": [
        "#Evaluating model and calculating the RMSE \n",
        "from sklearn import metrics \n",
        "\n",
        "print('Mean Absolute Error:', metrics.mean_absolute_error(y_test, poly_pred))  \n",
        "print('Mean Squared Error:', metrics.mean_squared_error(y_test, poly_pred))  \n",
        "print('Root Mean Squared Error:', np.sqrt(metrics.mean_squared_error(y_test, poly_pred)))"
      ],
      "execution_count": null,
      "outputs": [
        {
          "output_type": "stream",
          "text": [
            "Mean Absolute Error: 0.8377613605778255\n",
            "Mean Squared Error: 1.2567484207426756\n",
            "Root Mean Squared Error: 1.1210479118854269\n"
          ],
          "name": "stdout"
        }
      ]
    },
    {
      "cell_type": "markdown",
      "metadata": {
        "id": "i0EpJXu4syfL"
      },
      "source": [
        "To measure an accuracy of the model The RMSE should be 10% of the mean. The Rmse however here is 1.121 which is very high. This is beacause of the otliers in the home scores and away scores columns which were not removed.\n",
        "\n",
        "Furthermore the high RMSE indicates that the model is not optimal."
      ]
    },
    {
      "cell_type": "markdown",
      "metadata": {
        "id": "3eCwwqc__dfi"
      },
      "source": [
        "## Cross Validating Model 2 "
      ]
    },
    {
      "cell_type": "code",
      "metadata": {
        "colab": {
          "base_uri": "https://localhost:8080/"
        },
        "id": "xnnuvDyd_ck_",
        "outputId": "5911dc6a-cba1-45bf-e8c2-d0a21193e9e4"
      },
      "source": [
        "from sklearn.model_selection import KFold\n",
        "\n",
        "# We will use the same 3 independent variables for this\n",
        "X = combined_df[['homerank', 'awayrank', 'tournament']].values\n",
        "y = combined_df['awayscore'].values\n",
        "\n",
        "folds = KFold(n_splits=4)\n",
        "\n",
        "# note that if you have a KFold object, you can figure out how many folds you set up \n",
        "# for it using get_n_splits\n",
        "print('we are using ' +str(folds.get_n_splits(X)) + ' folds')\n",
        "\n",
        "# We now create and assess 5 models based on the folds we created.\n",
        "RMSES = [] # We will use this array to keep track of the RSME of each model\n",
        "count = 1 # This will just help \n",
        "for train_index, test_index in folds.split(X):\n",
        "  print('\\nTraining model ' + str(count))\n",
        "  \n",
        "  # set up the train and test based on the split determined by KFold\n",
        "  # With 5 folds, we will end up with 80% of our data in the training set, and 20% in the test set, just as above\n",
        "  X_train, X_test = X[train_index], X[test_index]\n",
        "  y_train, y_test = y[train_index], y[test_index]\n",
        "  \n",
        "  \n",
        "  # fit a model accordingly\n",
        "  poly_reg = PolynomialFeatures(degree = 3) \n",
        "  X_poly = poly_reg.fit_transform(X)\n",
        "\n",
        "  pol_reg = LinearRegression()\n",
        "  pol_reg.fit(X_poly, y)\n",
        "\n",
        "  # assess the accuraccy of the model\n",
        "  poly_pred = pol_reg.predict(poly_reg.fit_transform(X_test))\n",
        "\n",
        "  \n",
        "  rmse_value =  np.sqrt(metrics.mean_squared_error(y_test, poly_pred))\n",
        "  RMSES.append(rmse_value)\n",
        "  \n",
        "  print('Model ' + str(count) + ' Root Mean Squared Error:',rmse_value)\n",
        "  count = count + 1"
      ],
      "execution_count": null,
      "outputs": [
        {
          "output_type": "stream",
          "text": [
            "we are using 4 folds\n",
            "\n",
            "Training model 1\n",
            "Model 1 Root Mean Squared Error: 1.1269402672619435\n",
            "\n",
            "Training model 2\n",
            "Model 2 Root Mean Squared Error: 1.1478045666455365\n",
            "\n",
            "Training model 3\n",
            "Model 3 Root Mean Squared Error: 1.127554831515164\n",
            "\n",
            "Training model 4\n",
            "Model 4 Root Mean Squared Error: 1.0826708497990722\n"
          ],
          "name": "stdout"
        }
      ]
    },
    {
      "cell_type": "markdown",
      "metadata": {
        "id": "FbB0X-M21W5s"
      },
      "source": [
        "Model 4 is the most optimal since it has the lowest RMSE. "
      ]
    },
    {
      "cell_type": "markdown",
      "metadata": {
        "id": "ah0yuP9ozm_3"
      },
      "source": [
        "## Assesing the Heteroskedasticity"
      ]
    },
    {
      "cell_type": "code",
      "metadata": {
        "colab": {
          "base_uri": "https://localhost:8080/"
        },
        "id": "NvIOxXVW01D2",
        "outputId": "10660386-a876-4d92-8479-a7e934f42bcb"
      },
      "source": [
        "#we create a residual by subtracting the test value from the predicted value of each row in the dataset\n",
        "residuals = np.subtract(poly_pred, y_test)\n",
        "\n",
        "# Let's describe our residual:\n",
        "pd.DataFrame(residuals).describe()\n",
        "\n",
        "residuals.mean()"
      ],
      "execution_count": null,
      "outputs": [
        {
          "output_type": "execute_result",
          "data": {
            "text/plain": [
              "0.026039041823580397"
            ]
          },
          "metadata": {
            "tags": []
          },
          "execution_count": 61
        }
      ]
    },
    {
      "cell_type": "code",
      "metadata": {
        "colab": {
          "base_uri": "https://localhost:8080/"
        },
        "id": "I-khScaR-LKm",
        "outputId": "6d783e87-fb93-4f35-9602-515b3e93de9e"
      },
      "source": [
        "import scipy as sp\n",
        "\n",
        "test_result, p_value = sp.stats.bartlett(poly_pred, residuals)\n",
        "\n",
        "# To interpret the results we must also compute a critical value of the chi squared distribution\n",
        "degree_of_freedom = len(poly_pred)-1\n",
        "probability = 1 - p_value\n",
        "\n",
        "critical_value = sp.stats.chi2.ppf(probability, degree_of_freedom)\n",
        "print(test_result)\n",
        "\n",
        "# If the test_result is greater than the critical value, then we reject our null\n",
        "# hypothesis. This would mean that there are patterns to the variance of the data\n",
        "\n",
        "# Otherwise, we can identify no patterns, and we accept the null hypothesis that \n",
        "# the variance is homogeneous across our data\n",
        "\n",
        "if (test_result > critical_value):\n",
        "  print('the variances are unequal')\n",
        "else:\n",
        "  print('the variances are equal')\n"
      ],
      "execution_count": null,
      "outputs": [
        {
          "output_type": "stream",
          "text": [
            "1554.8733320652734\n",
            "the variances are equal\n"
          ],
          "name": "stdout"
        }
      ]
    },
    {
      "cell_type": "markdown",
      "metadata": {
        "id": "r0YVInPYxFTb"
      },
      "source": [
        "# Challenge the Solutions "
      ]
    },
    {
      "cell_type": "markdown",
      "metadata": {
        "id": "dE3BqvwJxNA0"
      },
      "source": [
        "The polynomial regression approoach did not create optomal models. This might be beacuse the indepenndent variables away rank and home rank are categorical -ordinal data. \n",
        "We further go ahaed and challenge this solution using the Logistic approach "
      ]
    },
    {
      "cell_type": "markdown",
      "metadata": {
        "id": "NtR1-AtkEUIz"
      },
      "source": [
        "# 5b).Logistic Regression "
      ]
    },
    {
      "cell_type": "markdown",
      "metadata": {
        "id": "UzWhA8gmywOW"
      },
      "source": [
        "Logistic regresion algorithms are used for classification tasks that is (yes/no ), (True/False) given a set of independent variables. \n",
        "Here we are going to create a model that predicts whether the result of a game between two teams was a win, lose or draw. "
      ]
    },
    {
      "cell_type": "markdown",
      "metadata": {
        "id": "Ukm7DAzSEeGm"
      },
      "source": [
        "## Feature Engineering "
      ]
    },
    {
      "cell_type": "code",
      "metadata": {
        "colab": {
          "base_uri": "https://localhost:8080/",
          "height": 202
        },
        "id": "-82wJtDXPbcV",
        "outputId": "07a11205-b3b6-4edb-f439-41406f8f3193"
      },
      "source": [
        "# dropping unnecessary columns for logistic regression \n",
        "\n",
        "logistic_df = combined_df.drop(['year','hometeam', 'awayteam'], axis=True)\n",
        "logistic_df.head()"
      ],
      "execution_count": null,
      "outputs": [
        {
          "output_type": "execute_result",
          "data": {
            "text/html": [
              "<div>\n",
              "<style scoped>\n",
              "    .dataframe tbody tr th:only-of-type {\n",
              "        vertical-align: middle;\n",
              "    }\n",
              "\n",
              "    .dataframe tbody tr th {\n",
              "        vertical-align: top;\n",
              "    }\n",
              "\n",
              "    .dataframe thead th {\n",
              "        text-align: right;\n",
              "    }\n",
              "</style>\n",
              "<table border=\"1\" class=\"dataframe\">\n",
              "  <thead>\n",
              "    <tr style=\"text-align: right;\">\n",
              "      <th></th>\n",
              "      <th>homescore</th>\n",
              "      <th>awayscore</th>\n",
              "      <th>tournament</th>\n",
              "      <th>homerank</th>\n",
              "      <th>awayrank</th>\n",
              "    </tr>\n",
              "  </thead>\n",
              "  <tbody>\n",
              "    <tr>\n",
              "      <th>0</th>\n",
              "      <td>0</td>\n",
              "      <td>0</td>\n",
              "      <td>2</td>\n",
              "      <td>19</td>\n",
              "      <td>67.0</td>\n",
              "    </tr>\n",
              "    <tr>\n",
              "      <th>1</th>\n",
              "      <td>0</td>\n",
              "      <td>1</td>\n",
              "      <td>2</td>\n",
              "      <td>70</td>\n",
              "      <td>5.0</td>\n",
              "    </tr>\n",
              "    <tr>\n",
              "      <th>2</th>\n",
              "      <td>0</td>\n",
              "      <td>0</td>\n",
              "      <td>2</td>\n",
              "      <td>22</td>\n",
              "      <td>35.0</td>\n",
              "    </tr>\n",
              "    <tr>\n",
              "      <th>3</th>\n",
              "      <td>1</td>\n",
              "      <td>5</td>\n",
              "      <td>2</td>\n",
              "      <td>94</td>\n",
              "      <td>8.0</td>\n",
              "    </tr>\n",
              "    <tr>\n",
              "      <th>4</th>\n",
              "      <td>0</td>\n",
              "      <td>0</td>\n",
              "      <td>2</td>\n",
              "      <td>58</td>\n",
              "      <td>25.0</td>\n",
              "    </tr>\n",
              "  </tbody>\n",
              "</table>\n",
              "</div>"
            ],
            "text/plain": [
              "   homescore  awayscore  tournament  homerank  awayrank\n",
              "0          0          0           2        19      67.0\n",
              "1          0          1           2        70       5.0\n",
              "2          0          0           2        22      35.0\n",
              "3          1          5           2        94       8.0\n",
              "4          0          0           2        58      25.0"
            ]
          },
          "metadata": {
            "tags": []
          },
          "execution_count": 63
        }
      ]
    },
    {
      "cell_type": "code",
      "metadata": {
        "colab": {
          "base_uri": "https://localhost:8080/",
          "height": 202
        },
        "id": "_kPEDpx-SVx-",
        "outputId": "52c62706-7495-4fb5-967f-124d662e829f"
      },
      "source": [
        "# creating a new column status of win, draw and lose \n",
        "# defining the function f \n",
        "\n",
        "def f(row):\n",
        "  if row['homescore'] > row['awayscore']:\n",
        "    val = 'win'\n",
        "  elif row['homescore'] == row['awayscore']:\n",
        "    val = 'draw'  \n",
        "  else:\n",
        "    val = 'Lose'\n",
        "  return val \n",
        "\n",
        "logistic_df['status'] = logistic_df.apply(f, axis =1)\n",
        "# preview of the new dataset\n",
        "logistic_df.head()    "
      ],
      "execution_count": null,
      "outputs": [
        {
          "output_type": "execute_result",
          "data": {
            "text/html": [
              "<div>\n",
              "<style scoped>\n",
              "    .dataframe tbody tr th:only-of-type {\n",
              "        vertical-align: middle;\n",
              "    }\n",
              "\n",
              "    .dataframe tbody tr th {\n",
              "        vertical-align: top;\n",
              "    }\n",
              "\n",
              "    .dataframe thead th {\n",
              "        text-align: right;\n",
              "    }\n",
              "</style>\n",
              "<table border=\"1\" class=\"dataframe\">\n",
              "  <thead>\n",
              "    <tr style=\"text-align: right;\">\n",
              "      <th></th>\n",
              "      <th>homescore</th>\n",
              "      <th>awayscore</th>\n",
              "      <th>tournament</th>\n",
              "      <th>homerank</th>\n",
              "      <th>awayrank</th>\n",
              "      <th>status</th>\n",
              "    </tr>\n",
              "  </thead>\n",
              "  <tbody>\n",
              "    <tr>\n",
              "      <th>0</th>\n",
              "      <td>0</td>\n",
              "      <td>0</td>\n",
              "      <td>2</td>\n",
              "      <td>19</td>\n",
              "      <td>67.0</td>\n",
              "      <td>draw</td>\n",
              "    </tr>\n",
              "    <tr>\n",
              "      <th>1</th>\n",
              "      <td>0</td>\n",
              "      <td>1</td>\n",
              "      <td>2</td>\n",
              "      <td>70</td>\n",
              "      <td>5.0</td>\n",
              "      <td>Lose</td>\n",
              "    </tr>\n",
              "    <tr>\n",
              "      <th>2</th>\n",
              "      <td>0</td>\n",
              "      <td>0</td>\n",
              "      <td>2</td>\n",
              "      <td>22</td>\n",
              "      <td>35.0</td>\n",
              "      <td>draw</td>\n",
              "    </tr>\n",
              "    <tr>\n",
              "      <th>3</th>\n",
              "      <td>1</td>\n",
              "      <td>5</td>\n",
              "      <td>2</td>\n",
              "      <td>94</td>\n",
              "      <td>8.0</td>\n",
              "      <td>Lose</td>\n",
              "    </tr>\n",
              "    <tr>\n",
              "      <th>4</th>\n",
              "      <td>0</td>\n",
              "      <td>0</td>\n",
              "      <td>2</td>\n",
              "      <td>58</td>\n",
              "      <td>25.0</td>\n",
              "      <td>draw</td>\n",
              "    </tr>\n",
              "  </tbody>\n",
              "</table>\n",
              "</div>"
            ],
            "text/plain": [
              "   homescore  awayscore  tournament  homerank  awayrank status\n",
              "0          0          0           2        19      67.0   draw\n",
              "1          0          1           2        70       5.0   Lose\n",
              "2          0          0           2        22      35.0   draw\n",
              "3          1          5           2        94       8.0   Lose\n",
              "4          0          0           2        58      25.0   draw"
            ]
          },
          "metadata": {
            "tags": []
          },
          "execution_count": 64
        }
      ]
    },
    {
      "cell_type": "code",
      "metadata": {
        "colab": {
          "base_uri": "https://localhost:8080/",
          "height": 416
        },
        "id": "xa4wt57FSV-S",
        "outputId": "0d66d425-cb18-40b0-990b-cab33e6fd527"
      },
      "source": [
        "# categorical boolean mask \n",
        "categorical_feature_mask = logistic_df.dtypes == object\n",
        "\n",
        "# filter categorical columns using mask and turn it into a list \n",
        "categorical_cols = logistic_df.columns[categorical_feature_mask].tolist()\n",
        "\n",
        "# import labelencoder \n",
        "from sklearn.preprocessing import LabelEncoder\n",
        "\n",
        "# instantiate labelencoder object \n",
        "le = LabelEncoder()\n",
        "\n",
        "# apply le on categorical feature columns\n",
        "logistic_df[categorical_cols] = logistic_df[categorical_cols].apply(lambda col: le.fit_transform(col))\n",
        "logistic_df[categorical_cols]"
      ],
      "execution_count": null,
      "outputs": [
        {
          "output_type": "execute_result",
          "data": {
            "text/html": [
              "<div>\n",
              "<style scoped>\n",
              "    .dataframe tbody tr th:only-of-type {\n",
              "        vertical-align: middle;\n",
              "    }\n",
              "\n",
              "    .dataframe tbody tr th {\n",
              "        vertical-align: top;\n",
              "    }\n",
              "\n",
              "    .dataframe thead th {\n",
              "        text-align: right;\n",
              "    }\n",
              "</style>\n",
              "<table border=\"1\" class=\"dataframe\">\n",
              "  <thead>\n",
              "    <tr style=\"text-align: right;\">\n",
              "      <th></th>\n",
              "      <th>status</th>\n",
              "    </tr>\n",
              "  </thead>\n",
              "  <tbody>\n",
              "    <tr>\n",
              "      <th>0</th>\n",
              "      <td>1</td>\n",
              "    </tr>\n",
              "    <tr>\n",
              "      <th>1</th>\n",
              "      <td>0</td>\n",
              "    </tr>\n",
              "    <tr>\n",
              "      <th>2</th>\n",
              "      <td>1</td>\n",
              "    </tr>\n",
              "    <tr>\n",
              "      <th>3</th>\n",
              "      <td>0</td>\n",
              "    </tr>\n",
              "    <tr>\n",
              "      <th>4</th>\n",
              "      <td>1</td>\n",
              "    </tr>\n",
              "    <tr>\n",
              "      <th>...</th>\n",
              "      <td>...</td>\n",
              "    </tr>\n",
              "    <tr>\n",
              "      <th>18796</th>\n",
              "      <td>0</td>\n",
              "    </tr>\n",
              "    <tr>\n",
              "      <th>18797</th>\n",
              "      <td>0</td>\n",
              "    </tr>\n",
              "    <tr>\n",
              "      <th>18798</th>\n",
              "      <td>0</td>\n",
              "    </tr>\n",
              "    <tr>\n",
              "      <th>18799</th>\n",
              "      <td>2</td>\n",
              "    </tr>\n",
              "    <tr>\n",
              "      <th>18800</th>\n",
              "      <td>2</td>\n",
              "    </tr>\n",
              "  </tbody>\n",
              "</table>\n",
              "<p>17028 rows × 1 columns</p>\n",
              "</div>"
            ],
            "text/plain": [
              "       status\n",
              "0           1\n",
              "1           0\n",
              "2           1\n",
              "3           0\n",
              "4           1\n",
              "...       ...\n",
              "18796       0\n",
              "18797       0\n",
              "18798       0\n",
              "18799       2\n",
              "18800       2\n",
              "\n",
              "[17028 rows x 1 columns]"
            ]
          },
          "metadata": {
            "tags": []
          },
          "execution_count": 65
        }
      ]
    },
    {
      "cell_type": "code",
      "metadata": {
        "colab": {
          "base_uri": "https://localhost:8080/"
        },
        "id": "IB6ADTi-SWBR",
        "outputId": "a0ddfb59-360f-4182-f33f-9cd2182ed349"
      },
      "source": [
        "# defining the variables into dependent (y) and idependent variables(x)\n",
        "x = logistic_df.drop('status', axis = 1 )\n",
        "y = logistic_df['status']\n",
        "\n",
        "# splitting the data into train and test\n",
        "x_train , x_test, y_train, y_test = train_test_split(x,y, test_size = 0.2, random_state = 25)\n",
        "# fitting our model \n",
        "from sklearn.linear_model import LogisticRegression\n",
        "\n",
        "LogReg = LogisticRegression(multi_class = 'multinomial', solver = 'lbfgs')\n",
        "    \n",
        "LogReg.fit(x_train, y_train)\n"
      ],
      "execution_count": null,
      "outputs": [
        {
          "output_type": "stream",
          "text": [
            "/usr/local/lib/python3.7/dist-packages/sklearn/linear_model/_logistic.py:940: ConvergenceWarning: lbfgs failed to converge (status=1):\n",
            "STOP: TOTAL NO. of ITERATIONS REACHED LIMIT.\n",
            "\n",
            "Increase the number of iterations (max_iter) or scale the data as shown in:\n",
            "    https://scikit-learn.org/stable/modules/preprocessing.html\n",
            "Please also refer to the documentation for alternative solver options:\n",
            "    https://scikit-learn.org/stable/modules/linear_model.html#logistic-regression\n",
            "  extra_warning_msg=_LOGISTIC_SOLVER_CONVERGENCE_MSG)\n"
          ],
          "name": "stderr"
        },
        {
          "output_type": "execute_result",
          "data": {
            "text/plain": [
              "LogisticRegression(C=1.0, class_weight=None, dual=False, fit_intercept=True,\n",
              "                   intercept_scaling=1, l1_ratio=None, max_iter=100,\n",
              "                   multi_class='multinomial', n_jobs=None, penalty='l2',\n",
              "                   random_state=None, solver='lbfgs', tol=0.0001, verbose=0,\n",
              "                   warm_start=False)"
            ]
          },
          "metadata": {
            "tags": []
          },
          "execution_count": 72
        }
      ]
    },
    {
      "cell_type": "code",
      "metadata": {
        "id": "5wHoX1Q3W8VS"
      },
      "source": [
        "# using the model to make a prediction\n",
        "y_pred = LogReg.predict(x_test)"
      ],
      "execution_count": null,
      "outputs": []
    },
    {
      "cell_type": "code",
      "metadata": {
        "colab": {
          "base_uri": "https://localhost:8080/"
        },
        "id": "tTq9jLs9W8hL",
        "outputId": "86167260-5149-43dd-f065-06a78b0fb778"
      },
      "source": [
        "# evaluating the model \n",
        "from sklearn.metrics import confusion_matrix\n",
        "confusion_matrix = confusion_matrix(y_test, y_pred)\n",
        "confusion_matrix"
      ],
      "execution_count": null,
      "outputs": [
        {
          "output_type": "execute_result",
          "data": {
            "text/plain": [
              "array([[ 952,    0,    0],\n",
              "       [   0,  788,    0],\n",
              "       [   0,    0, 1666]])"
            ]
          },
          "metadata": {
            "tags": []
          },
          "execution_count": 74
        }
      ]
    },
    {
      "cell_type": "code",
      "metadata": {
        "colab": {
          "base_uri": "https://localhost:8080/"
        },
        "id": "JgNAGu0GZrAz",
        "outputId": "fc6903e5-5394-47c4-8c5f-53718cd11ca3"
      },
      "source": [
        "# accuracy score \n",
        "print('accuracy of logistic regression on testset', format(LogReg.score(x_test,y_test)))"
      ],
      "execution_count": null,
      "outputs": [
        {
          "output_type": "stream",
          "text": [
            "accuracy of logistic regression on testset 1.0\n"
          ],
          "name": "stdout"
        }
      ]
    },
    {
      "cell_type": "markdown",
      "metadata": {
        "id": "e_Od9rBJ9oz3"
      },
      "source": [
        "The model made 3 correct predictions of 952, 788 and 1666. The model gave an accuracy score of 100% and this is clearly a sign of overfitting."
      ]
    },
    {
      "cell_type": "markdown",
      "metadata": {
        "id": "ppQ7gta4j6yX"
      },
      "source": [
        "# 6.Challenging the Solution "
      ]
    },
    {
      "cell_type": "markdown",
      "metadata": {
        "id": "a7LgfMkhkIUq"
      },
      "source": [
        "The polynomial regression model was not accurate since the RMSE achieved was too high and not 10% of the mean of the dependent variable. This may have been beacause of the outliers in the home score and away score variables. \n",
        "\n",
        "The logistic regression dataset brings an accuracy of 100% which might be bacuase of overfitting. Hyperparametr tuning should thefore be carried out on the model. With the right parametrs , they can eliminate these chances of overfitting and also help define higher level concepts about the model , such as its complexity. "
      ]
    },
    {
      "cell_type": "markdown",
      "metadata": {
        "id": "2P04D3s5lUW7"
      },
      "source": [
        "# 7.Follow Up Questions "
      ]
    },
    {
      "cell_type": "markdown",
      "metadata": {
        "id": "W8DI90TvlZm2"
      },
      "source": [
        "At this point, we can refine our question or collect new data, all in an iterative process to get at the optimal model. "
      ]
    },
    {
      "cell_type": "markdown",
      "metadata": {
        "id": "ySrOR7U7lnfJ"
      },
      "source": [
        "a) Did we have the right data - The data was not sufficient to perform polynomial regression since the independent variables ranks of away teams and home teams were ordinal and not continuous . \n",
        "\n",
        "However the data was sufficient to perform logistic regression "
      ]
    },
    {
      "cell_type": "markdown",
      "metadata": {
        "id": "lrtD8zScltqC"
      },
      "source": [
        "b) Do we need another data to answer the question - Yes we needed another data to answer to answer the question using polynomial approach. \n",
        "\n"
      ]
    },
    {
      "cell_type": "markdown",
      "metadata": {
        "id": "tTAGVMgQl3TX"
      },
      "source": [
        "c) Did we have the right question \n",
        "\n",
        "Yes"
      ]
    }
  ]
}